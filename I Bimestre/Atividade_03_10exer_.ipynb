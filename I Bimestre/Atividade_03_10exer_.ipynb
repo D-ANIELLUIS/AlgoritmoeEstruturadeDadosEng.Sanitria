{
  "nbformat": 4,
  "nbformat_minor": 0,
  "metadata": {
    "colab": {
      "provenance": []
    },
    "kernelspec": {
      "name": "python3",
      "display_name": "Python 3"
    },
    "language_info": {
      "name": "python"
    }
  },
  "cells": [
    {
      "cell_type": "markdown",
      "source": [
        "1. Calculadora de IMC (Índice de Massa Corporal):\n",
        "\n",
        "Solicite ao usuário seu peso e altura.\n",
        "Calcule o IMC usando a fórmula: IMC = peso / (altura * altura).\n",
        "Classifique o resultado em baixo peso, peso normal, sobrepeso ou obesidade, utilizando as faixas de IMC comuns."
      ],
      "metadata": {
        "id": "pp0Ea5TryX4l"
      }
    },
    {
      "cell_type": "code",
      "execution_count": 17,
      "metadata": {
        "id": "xeyCljckyCPp",
        "colab": {
          "base_uri": "https://localhost:8080/"
        },
        "outputId": "62b76a80-73d2-4248-c2c0-890a5dd6649c"
      },
      "outputs": [
        {
          "output_type": "stream",
          "name": "stdout",
          "text": [
            "Calculadora de índice de massa corporal(IMC)\n",
            "Digite a seu peso (ex.: 69.2): 68.4\n",
            "Digite sua altura (ex.: 1.70):1.80\n",
            "Sua situação atual é peso normal\n"
          ]
        }
      ],
      "source": [
        "print(\"Calculadora de índice de massa corporal(IMC)\")\n",
        "peso = float( input(\"Digite a seu peso (ex.: 69.2): \") )\n",
        "if peso <= 0:\n",
        "    print (\"Coloque um valor maior que zero\")\n",
        "    peso = float( input(\"Digite a seu peso (ex.: 69.2): \") )\n",
        "else:\n",
        "    altura = float( input(\"Digite sua altura (ex.: 1.70):\") )\n",
        "    if altura <= 0:\n",
        "      print (\"Coloque um valor maior que zero\")\n",
        "      altura = float( input(\"Digite sua altura (ex.: 1.70):\") )\n",
        "\n",
        "\n",
        "imc = peso / (altura * altura)\n",
        "\n",
        "if imc < 18.5:\n",
        "  print(f\"Sua situação atual é baixo peso\")\n",
        "elif imc >= 18.5 and imc <= 24.9:\n",
        "  print(f\"Sua situação atual é peso normal\")\n",
        "elif imc >= 25.0 and imc <= 29.9:\n",
        "  print(f\"Sua situação atual é sobrepeso\")\n",
        "elif imc >= 30 and imc <= 39.9:\n",
        "  print(f\"Sua situação atual é obesidade\")"
      ]
    },
    {
      "cell_type": "markdown",
      "source": [
        "2. Verificador de Número Par ou Ímpar:\n",
        "\n",
        "Solicite ao usuário um número inteiro.\n",
        "Verifique se o número é par ou ímpar.\n",
        "Exiba uma mensagem correspondente."
      ],
      "metadata": {
        "id": "3mahrH8bygU0"
      }
    },
    {
      "cell_type": "code",
      "source": [
        "print(\"Verificador de Número Par ou Ímpar\")\n",
        "\n",
        "numero = input(\"Digite o número inteiro (ex.: ±1, ±2, ±3...): \")\n",
        "\n",
        "# Verifica se a entrada é um número inteiro válido\n",
        "if numero.lstrip('-' + '+').isdigit():  # Remova o sinal de menos se presente e verifica se todos os caracteres restantes são dígitos\n",
        "    numero = int(numero)\n",
        "\n",
        "    # Verifica se o número é zero e solicita outro número, se necessário\n",
        "    if numero == 0:\n",
        "        print(\"Digite um número diferente de 0 (zero)\")\n",
        "        numero = input(\"Digite o número inteiro (ex.: ±1, ±2, ±3...): \")\n",
        "        if numero.lstrip('-' + '+').isdigit():\n",
        "            numero = int(numero)\n",
        "        else:\n",
        "            print(\"Erro: Por favor, digite apenas números inteiros.\")\n",
        "            exit()\n",
        "\n",
        "    # Verifica se o número é par ou ímpar e exibe o resultado\n",
        "    if numero % 2 == 0:\n",
        "        print(\"O número é par.\")\n",
        "    else:\n",
        "        print(\"O número é ímpar.\")\n",
        "else:\n",
        "    print(\"Erro: Por favor, digite apenas números inteiros.\")"
      ],
      "metadata": {
        "colab": {
          "base_uri": "https://localhost:8080/"
        },
        "id": "Lq7vO_sPymY1",
        "outputId": "e5c8eab9-86dc-4a66-e5ca-aebe4e699822"
      },
      "execution_count": 15,
      "outputs": [
        {
          "output_type": "stream",
          "name": "stdout",
          "text": [
            "Verificador de Número Par ou Ímpar\n",
            "Digite o número inteiro (ex.: ±1, ±2, ±3...): -2\n",
            "O número é par.\n"
          ]
        }
      ]
    },
    {
      "cell_type": "markdown",
      "source": [
        "3. Conversor de Temperatura:\n",
        "\n",
        "Solicite ao usuário uma temperatura em Celsius.\n",
        "Converta a temperatura para Fahrenheit usando a fórmula: F = C * 9/5 + 32.\n",
        "Exiba o resultado da conversão."
      ],
      "metadata": {
        "id": "HnuOGbCzym8T"
      }
    },
    {
      "cell_type": "code",
      "source": [
        "print(\"Conversor de Temperatura\")\n",
        "\n",
        "# Solicita ao usuário uma temperatura em Celsius\n",
        "temperatura_celsius = float(input(\"Digite a temperatura em Celsius: \"))\n",
        "\n",
        "# Converte a temperatura para Fahrenheit usando a fórmula F = C * 9/5 + 32\n",
        "temperatura_fahrenheit = temperatura_celsius * 9/5 + 32\n",
        "\n",
        "# Exibe o resultado da conversão\n",
        "print(f\"A temperatura em Fahrenheit é: {temperatura_fahrenheit:.1f} °F\")"
      ],
      "metadata": {
        "colab": {
          "base_uri": "https://localhost:8080/"
        },
        "id": "4HvXokdZyp4S",
        "outputId": "b33d6124-0674-4326-dc84-a9fecc22214b"
      },
      "execution_count": 19,
      "outputs": [
        {
          "output_type": "stream",
          "name": "stdout",
          "text": [
            "Conversor de Temperatura\n",
            "Digite a temperatura em Celsius: 30\n",
            "A temperatura em Fahrenheit é: 86.0 °F\n"
          ]
        }
      ]
    },
    {
      "cell_type": "markdown",
      "source": [
        "4. Tabuada de Multiplicação:\n",
        "\n",
        "Solicite ao usuário um número.\n",
        "Exiba a tabuada de multiplicação desse número de 1 a 10."
      ],
      "metadata": {
        "id": "9bFpxCmiyqXi"
      }
    },
    {
      "cell_type": "code",
      "source": [
        "print(\"Tabuada de Multiplicação\")\n",
        "\n",
        "# Solicita ao usuário um número\n",
        "numero = float(input(\"Digite um número: \"))\n",
        "\n",
        "# Exibe a tabuada de multiplicação desse número de 1 a 10\n",
        "print(f\"Tabuada de multiplicação do número {numero}:\")\n",
        "for i in range(1, 11):\n",
        "    resultado = numero * i\n",
        "    print(f\"{numero} x {i} = {resultado:.3f}\")"
      ],
      "metadata": {
        "colab": {
          "base_uri": "https://localhost:8080/"
        },
        "id": "TmLd-o41ysr7",
        "outputId": "b243b4c7-db85-43df-cb44-cacf236cc8c4"
      },
      "execution_count": 26,
      "outputs": [
        {
          "output_type": "stream",
          "name": "stdout",
          "text": [
            "Tabuada de Multiplicação\n",
            "Digite um número: 1.5\n",
            "Tabuada de multiplicação do número 1.5:\n",
            "1.5 x 1 = 1.500\n",
            "1.5 x 2 = 3.000\n",
            "1.5 x 3 = 4.500\n",
            "1.5 x 4 = 6.000\n",
            "1.5 x 5 = 7.500\n",
            "1.5 x 6 = 9.000\n",
            "1.5 x 7 = 10.500\n",
            "1.5 x 8 = 12.000\n",
            "1.5 x 9 = 13.500\n",
            "1.5 x 10 = 15.000\n"
          ]
        }
      ]
    },
    {
      "cell_type": "markdown",
      "source": [
        "5. Cálculo de Média Ponderada:\n",
        "\n",
        "Solicite ao usuário três notas e seus respectivos pesos.\n",
        "Calcule a média ponderada das notas.\n",
        "Exiba o resultado da média."
      ],
      "metadata": {
        "id": "yDW9pONFyuXC"
      }
    },
    {
      "cell_type": "code",
      "source": [
        "print(\"Cálculo de Média Ponderada\")\n",
        "\n",
        "# Solicita ao usuário as três notas e seus respectivos pesos\n",
        "n1 = float(input(\"Digite a primeira nota: \"))\n",
        "peso1 = float(input(\"Digite o peso da primeira nota: \"))\n",
        "n2 = float(input(\"Digite a segunda nota: \"))\n",
        "peso2 = float(input(\"Digite o peso da segunda nota: \"))\n",
        "n3 = float(input(\"Digite a terceira nota: \"))\n",
        "peso3 = float(input(\"Digite o peso da terceira nota: \"))\n",
        "\n",
        "# Calcula a média ponderada das notas\n",
        "media_ponderada = (n1 * peso1 + n2 * peso2 + n3 * peso3) / (peso1 + peso2 + peso3)\n",
        "\n",
        "# Exibe o resultado da média ponderada\n",
        "print(f\"A média ponderada das notas é: {media_ponderada:.2f}\")"
      ],
      "metadata": {
        "colab": {
          "base_uri": "https://localhost:8080/"
        },
        "id": "ustMJEPpyvGz",
        "outputId": "253b66ab-5c36-4def-85e9-a4ddf22fc633"
      },
      "execution_count": 27,
      "outputs": [
        {
          "output_type": "stream",
          "name": "stdout",
          "text": [
            "Cálculo de Média Ponderada\n",
            "Digite a primeira nota: 2\n",
            "Digite o peso da primeira nota: 4\n",
            "Digite a segunda nota: 9\n",
            "Digite o peso da segunda nota: 4\n",
            "Digite a terceira nota: 10\n",
            "Digite o peso da terceira nota: 6\n",
            "A média ponderada das notas é: 7.43\n"
          ]
        }
      ]
    },
    {
      "cell_type": "markdown",
      "source": [
        "6. Verificador de Ano Bissexto:\n",
        "\n",
        "Solicite ao usuário um ano.\n",
        "Verifique se o ano é bissexto.\n",
        "Exiba uma mensagem correspondente."
      ],
      "metadata": {
        "id": "L4baaEgdywaj"
      }
    },
    {
      "cell_type": "code",
      "source": [
        "print(\"Verificador de Ano Bissexto\")\n",
        "\n",
        "# Solicita ao usuário um ano\n",
        "ano = int(input(\"Digite um ano: \"))\n",
        "\n",
        "# Verifica se o ano é bissexto\n",
        "if (ano % 4 == 0 and ano % 100 != 0) or (ano % 400 == 0):\n",
        "    print(f\"O ano {ano} é bissexto.\")\n",
        "else:\n",
        "    print(f\"O ano {ano} não é bissexto.\")"
      ],
      "metadata": {
        "colab": {
          "base_uri": "https://localhost:8080/"
        },
        "id": "j4DotpHMyye7",
        "outputId": "0d79a592-554e-4111-d5bd-41ccd0998a6c"
      },
      "execution_count": 28,
      "outputs": [
        {
          "output_type": "stream",
          "name": "stdout",
          "text": [
            "Verificador de Ano Bissexto\n",
            "Digite um ano: 2024\n",
            "O ano 2024 é bissexto.\n"
          ]
        }
      ]
    },
    {
      "cell_type": "markdown",
      "source": [
        "7. Contador de Vogais em uma String:\n",
        "\n",
        "Solicite ao usuário uma string.\n",
        "Conte e exiba o número de vogais na string (a, e, i, o, u).\n"
      ],
      "metadata": {
        "id": "ARkDUeP_yy1z"
      }
    },
    {
      "cell_type": "code",
      "source": [
        "print(\"Contador de Vogais em uma palavra\")\n",
        "\n",
        "# Solicita ao usuário uma palavra\n",
        "string = input(\"Digite uma palavra: \")\n",
        "\n",
        "# Inicializa o contador de vogais\n",
        "contador_vogais = 0\n",
        "\n",
        "# Itera sobre cada caractere na palavra\n",
        "for caractere in string:\n",
        "    # Verifica se o caractere é uma vogal ('a', 'e', 'i', 'o', 'u' ou suas versões maiúsculas)\n",
        "    if caractere in 'aeiouAEIOU':\n",
        "        contador_vogais += 1\n",
        "\n",
        "# Exibe o número de vogais na palavra\n",
        "print(f\"O número de vogais na palavra é: {contador_vogais}\")\n"
      ],
      "metadata": {
        "colab": {
          "base_uri": "https://localhost:8080/"
        },
        "id": "aEVueWocy0jb",
        "outputId": "a0687f50-2950-42ce-8089-7cf2515f376c"
      },
      "execution_count": 31,
      "outputs": [
        {
          "output_type": "stream",
          "name": "stdout",
          "text": [
            "Contador de Vogais em uma palavra\n",
            "Digite uma palavra: abacate1\n",
            "O número de vogais na palavra é: 4\n"
          ]
        }
      ]
    },
    {
      "cell_type": "markdown",
      "source": [
        "8. Calculadora de Fatorial:\n",
        "\n",
        "Solicite ao usuário um número inteiro positivo.\n",
        "Calcule e exiba o fatorial desse número."
      ],
      "metadata": {
        "id": "CaWILxXsy1Hi"
      }
    },
    {
      "cell_type": "code",
      "source": [
        "print(\"Calculadora de Fatorial\")\n",
        "\n",
        "# Solicita ao usuário um número inteiro positivo\n",
        "numero = int(input(\"Digite um número inteiro positivo: \"))\n",
        "\n",
        "# Verifica se o número é negativo\n",
        "if numero < 0:\n",
        "    print(\"Erro: Por favor, digite um número inteiro positivo.\")\n",
        "else:\n",
        "    # Inicializa o fatorial como 1\n",
        "    fatorial = 1\n",
        "\n",
        "    # Calcula o fatorial do número\n",
        "    for i in range(1, numero + 1):\n",
        "        fatorial *= i\n",
        "\n",
        "    # Exibe o resultado do fatorial\n",
        "    print(f\"O fatorial de {numero} é: {fatorial}\")\n"
      ],
      "metadata": {
        "colab": {
          "base_uri": "https://localhost:8080/"
        },
        "id": "rP_pxZ3ry3rT",
        "outputId": "163e5def-45ba-4176-dfb7-ba4fbfb1b5f6"
      },
      "execution_count": 35,
      "outputs": [
        {
          "output_type": "stream",
          "name": "stdout",
          "text": [
            "Calculadora de Fatorial\n",
            "Digite um número inteiro positivo: 5\n",
            "O fatorial de 5 é: 120\n"
          ]
        }
      ]
    },
    {
      "cell_type": "markdown",
      "source": [
        "9. Soma dos Números Pares em um Intervalo:\n",
        "\n",
        "Solicite ao usuário dois números inteiros que representam um intervalo.\n",
        "Calcule e exiba a soma de todos os números pares dentro desse intervalo."
      ],
      "metadata": {
        "id": "clsLyeUPy4D6"
      }
    },
    {
      "cell_type": "code",
      "source": [
        "print(\"Soma dos Números Pares em um Intervalo\")\n",
        "\n",
        "# Solicita ao usuário dois números inteiros que representam um intervalo\n",
        "inicio = int(input(\"Digite o número inicial do intervalo: \"))\n",
        "fim = int(input(\"Digite o número final do intervalo: \"))\n",
        "\n",
        "# Inicializa a soma dos números pares\n",
        "soma_pares = 0\n",
        "\n",
        "# Verifica se o intervalo é válido\n",
        "if inicio > fim:\n",
        "    print(\"Erro: O número inicial do intervalo deve ser menor ou igual ao número final.\")\n",
        "else:\n",
        "    # Itera sobre todos os números no intervalo\n",
        "    for num in range(inicio, fim + 1):\n",
        "        # Verifica se o número é par\n",
        "        if num % 2 == 0:\n",
        "            soma_pares += num\n",
        "\n",
        "    # Exibe a soma dos números pares\n",
        "    print(f\"A soma dos números pares no intervalo de {inicio} a {fim} é: {soma_pares}\")\n"
      ],
      "metadata": {
        "colab": {
          "base_uri": "https://localhost:8080/"
        },
        "id": "TSh687kEy4_6",
        "outputId": "2b6d4766-c645-4424-82b4-9b9889bf0cea"
      },
      "execution_count": 36,
      "outputs": [
        {
          "output_type": "stream",
          "name": "stdout",
          "text": [
            "Soma dos Números Pares em um Intervalo\n",
            "Digite o número inicial do intervalo: 4\n",
            "Digite o número final do intervalo: 6\n",
            "A soma dos números pares no intervalo de 4 a 6 é: 10\n"
          ]
        }
      ]
    },
    {
      "cell_type": "markdown",
      "source": [
        "10. Verificador de Número Primo:\n",
        "\n",
        "Solicite ao usuário um número inteiro positivo.\n",
        "Verifique se o número é primo.\n",
        "Exiba uma mensagem correspondente."
      ],
      "metadata": {
        "id": "NftsJ3aGy6VE"
      }
    },
    {
      "cell_type": "code",
      "source": [
        "print(\"Verificador de Número Primo\")\n",
        "\n",
        "# Solicita ao usuário um número inteiro positivo\n",
        "numero = int(input(\"Digite um número inteiro positivo: \"))\n",
        "\n",
        "# Verifica se o número é menor que 2, pois números menores que 2 não são primos\n",
        "if numero < 2:\n",
        "    print(\"O número não é primo.\")\n",
        "else:\n",
        "    # Inicializa a flag para indicar se o número é primo\n",
        "    primo = True\n",
        "\n",
        "    # Verifica se o número é divisível por algum número além de 1 e ele mesmo\n",
        "    for i in range(2, int(numero ** 0.5) + 1):\n",
        "        if numero % i == 0:\n",
        "            primo = False\n",
        "            break\n",
        "\n",
        "    # Exibe uma mensagem correspondente ao resultado da verificação\n",
        "    if primo:\n",
        "        print(\"O número é primo.\")\n",
        "    else:\n",
        "        print(\"O número não é primo.\")\n"
      ],
      "metadata": {
        "colab": {
          "base_uri": "https://localhost:8080/"
        },
        "id": "QbZq8V7Zy7Aj",
        "outputId": "0e0eaaea-10b9-47c2-882a-8803bab627d4"
      },
      "execution_count": 37,
      "outputs": [
        {
          "output_type": "stream",
          "name": "stdout",
          "text": [
            "Verificador de Número Primo\n",
            "Digite um número inteiro positivo: 10\n",
            "O número não é primo.\n"
          ]
        }
      ]
    }
  ]
}