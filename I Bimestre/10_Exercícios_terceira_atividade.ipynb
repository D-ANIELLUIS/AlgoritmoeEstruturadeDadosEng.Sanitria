{
  "nbformat": 4,
  "nbformat_minor": 0,
  "metadata": {
    "colab": {
      "provenance": []
    },
    "kernelspec": {
      "name": "python3",
      "display_name": "Python 3"
    },
    "language_info": {
      "name": "python"
    }
  },
  "cells": [
    {
      "cell_type": "markdown",
      "source": [
        "Calculadora de Média:"
      ],
      "metadata": {
        "id": "ky-iYDodXCMS"
      }
    },
    {
      "cell_type": "code",
      "source": [
        "print(\"Calculadora de Média\")\n",
        "\n",
        "nota1 = float(input(\"Digite a primeira nota: \"))\n",
        "nota2 = float(input(\"Digite a segunda nota: \"))\n",
        "nota3 = float(input(\"Digite a terceira nota: \"))\n",
        "\n",
        "media = (nota1 + nota2 + nota3) / 3\n",
        "\n",
        "print(f\"A média das notas é: {media:.2f}\")\n"
      ],
      "metadata": {
        "id": "Sl-FyKP7XDeC"
      },
      "execution_count": null,
      "outputs": []
    },
    {
      "cell_type": "markdown",
      "source": [
        "Verificador de Número Positivo, Negativo ou Zero:"
      ],
      "metadata": {
        "id": "iHlioLp2XIuS"
      }
    },
    {
      "cell_type": "code",
      "source": [
        "print(\"Verificador de Número Positivo, Negativo ou Zero\")\n",
        "\n",
        "numero = float(input(\"Digite um número: \"))\n",
        "\n",
        "if numero > 0:\n",
        "    print(\"O número é positivo.\")\n",
        "elif numero < 0:\n",
        "    print(\"O número é negativo.\")\n",
        "else:\n",
        "    print(\"O número é zero.\")\n"
      ],
      "metadata": {
        "id": "uX2IsAv1XJSB"
      },
      "execution_count": null,
      "outputs": []
    },
    {
      "cell_type": "markdown",
      "source": [
        "Tabuada de Multiplicação:"
      ],
      "metadata": {
        "id": "OpRvDlRRXR7H"
      }
    },
    {
      "cell_type": "code",
      "source": [
        "print(\"Tabuada de Multiplicação\")\n",
        "\n",
        "numero = int(input(\"Digite um número: \"))\n",
        "\n",
        "for i in range(1, 11):\n",
        "    print(f\"{numero} x {i} = {numero * i}\")\n"
      ],
      "metadata": {
        "id": "kfY4nREOXKhi"
      },
      "execution_count": null,
      "outputs": []
    },
    {
      "cell_type": "markdown",
      "source": [
        "Calculadora de Fatorial:"
      ],
      "metadata": {
        "id": "-k5Gz7PfXX6X"
      }
    },
    {
      "cell_type": "code",
      "source": [
        "print(\"Calculadora de Fatorial\")\n",
        "\n",
        "numero = int(input(\"Digite um número inteiro positivo: \"))\n",
        "\n",
        "fatorial = 1\n",
        "for i in range(1, numero + 1):\n",
        "    fatorial *= i\n",
        "\n",
        "print(f\"O fatorial de {numero} é: {fatorial}\")\n"
      ],
      "metadata": {
        "id": "gOjd3ER8XXZV"
      },
      "execution_count": null,
      "outputs": []
    },
    {
      "cell_type": "markdown",
      "source": [
        "Conversor de Temperatura:"
      ],
      "metadata": {
        "id": "It7-A5q9XbSu"
      }
    },
    {
      "cell_type": "code",
      "source": [
        "print(\"Conversor de Temperatura\")\n",
        "\n",
        "celsius = float(input(\"Digite a temperatura em Celsius: \"))\n",
        "\n",
        "fahrenheit = celsius * 9/5 + 32\n",
        "\n",
        "print(f\"A temperatura em Fahrenheit é: {fahrenheit:.2f} °F\")\n"
      ],
      "metadata": {
        "id": "vccBQJgCXehS"
      },
      "execution_count": null,
      "outputs": []
    },
    {
      "cell_type": "markdown",
      "source": [
        "Verificador de Ano Bissexto:"
      ],
      "metadata": {
        "id": "emYUz4TRXfPT"
      }
    },
    {
      "cell_type": "code",
      "source": [
        "print(\"Verificador de Ano Bissexto\")\n",
        "\n",
        "ano = int(input(\"Digite um ano: \"))\n",
        "\n",
        "if (ano % 4 == 0 and ano % 100 != 0) or (ano % 400 == 0):\n",
        "    print(f\"O ano {ano} é bissexto.\")\n",
        "else:\n",
        "    print(f\"O ano {ano} não é bissexto.\")\n"
      ],
      "metadata": {
        "id": "4l5JWoC-Xgxj"
      },
      "execution_count": null,
      "outputs": []
    },
    {
      "cell_type": "markdown",
      "source": [
        "Soma dos Números Pares em um Intervalo:"
      ],
      "metadata": {
        "id": "LsDU6I3uXkFL"
      }
    },
    {
      "cell_type": "code",
      "source": [
        "print(\"Soma dos Números Pares em um Intervalo\")\n",
        "\n",
        "inicio = int(input(\"Digite o número inicial do intervalo: \"))\n",
        "fim = int(input(\"Digite o número final do intervalo: \"))\n",
        "\n",
        "soma_pares = 0\n",
        "for num in range(inicio, fim + 1):\n",
        "    if num % 2 == 0:\n",
        "        soma_pares += num\n",
        "\n",
        "print(f\"A soma dos números pares no intervalo de {inicio} a {fim} é: {soma_pares}\")\n"
      ],
      "metadata": {
        "id": "s7A2K8uSXnoz"
      },
      "execution_count": null,
      "outputs": []
    },
    {
      "cell_type": "markdown",
      "source": [
        "Verificador de Número Primo:"
      ],
      "metadata": {
        "id": "xTxS0SEQXqhc"
      }
    },
    {
      "cell_type": "code",
      "source": [
        "print(\"Verificador de Número Primo\")\n",
        "\n",
        "numero = int(input(\"Digite um número inteiro positivo: \"))\n",
        "\n",
        "if numero < 2:\n",
        "    print(\"O número não é primo.\")\n",
        "else:\n",
        "    primo = True\n",
        "    for i in range(2, int(numero ** 0.5) + 1):\n",
        "        if numero % i == 0:\n",
        "            primo = False\n",
        "            break\n",
        "    if primo:\n",
        "        print(\"O número é primo.\")\n",
        "    else:\n",
        "        print(\"O número não é primo.\")\n"
      ],
      "metadata": {
        "id": "unoI1jY4XrPX"
      },
      "execution_count": null,
      "outputs": []
    },
    {
      "cell_type": "code",
      "source": [],
      "metadata": {
        "id": "-9CODiG0X0Ke"
      },
      "execution_count": null,
      "outputs": []
    },
    {
      "cell_type": "markdown",
      "source": [
        "Contador de Vogais em uma Palavra:"
      ],
      "metadata": {
        "id": "eqklg06MXs5X"
      }
    },
    {
      "cell_type": "code",
      "source": [
        "print(\"Contador de Vogais em uma Palavra\")\n",
        "\n",
        "string = input(\"Digite uma palavra: \")\n",
        "\n",
        "contador_vogais = 0\n",
        "for caractere in string:\n",
        "    if caractere.lower() in 'aeiou':\n",
        "        contador_vogais += 1\n",
        "\n",
        "print(f\"O número de vogais na palavra é: {contador_vogais}\")\n"
      ],
      "metadata": {
        "colab": {
          "base_uri": "https://localhost:8080/"
        },
        "id": "7Mff0AVzXwiG",
        "outputId": "01d76ca7-f6d3-4e18-a6d5-216ddca4325b"
      },
      "execution_count": 1,
      "outputs": [
        {
          "output_type": "stream",
          "name": "stdout",
          "text": [
            "Contador de Vogais em uma Palavra\n",
            "Digite uma palavra: abacate12\n",
            "O número de vogais na palavra é: 4\n"
          ]
        }
      ]
    },
    {
      "cell_type": "markdown",
      "source": [
        "Cálculo de Média Ponderada:"
      ],
      "metadata": {
        "id": "c8XXJ02NYKTX"
      }
    },
    {
      "cell_type": "code",
      "source": [
        "print(\"Cálculo de Média Ponderada\")\n",
        "\n",
        "nota1 = float(input(\"Digite a primeira nota: \"))\n",
        "peso1 = float(input(\"Digite o peso da primeira nota: \"))\n",
        "nota2 = float(input(\"Digite a segunda nota: \"))\n",
        "peso2 = float(input(\"Digite o peso da segunda nota: \"))\n",
        "nota3 = float(input(\"Digite a terceira nota: \"))\n",
        "peso3 = float(input(\"Digite o peso da terceira nota: \"))\n",
        "\n",
        "media_ponderada = (nota1 * peso1 + nota2 * peso2 + nota3 * peso3) / (peso1 + peso2 + peso3)\n",
        "\n",
        "print(f\"A média ponderada das notas é: {media_ponderada:.2f}\")\n"
      ],
      "metadata": {
        "id": "v4FKhT2NYJQX"
      },
      "execution_count": null,
      "outputs": []
    }
  ]
}