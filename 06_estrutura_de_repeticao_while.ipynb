{
  "nbformat": 4,
  "nbformat_minor": 0,
  "metadata": {
    "colab": {
      "provenance": [],
      "include_colab_link": true
    },
    "kernelspec": {
      "name": "python3",
      "display_name": "Python 3"
    },
    "language_info": {
      "name": "python"
    }
  },
  "cells": [
    {
      "cell_type": "markdown",
      "metadata": {
        "id": "view-in-github",
        "colab_type": "text"
      },
      "source": [
        "<a href=\"https://colab.research.google.com/github/D-ANIELLUIS/AlgoritmoeEstruturadeDadosEngSanitria/blob/main/06_estrutura_de_repeticao_while.ipynb\" target=\"_parent\"><img src=\"https://colab.research.google.com/assets/colab-badge.svg\" alt=\"Open In Colab\"/></a>"
      ]
    },
    {
      "cell_type": "code",
      "execution_count": 9,
      "metadata": {
        "colab": {
          "base_uri": "https://localhost:8080/"
        },
        "id": "ZigAqV-kcRUX",
        "outputId": "a0a045bc-e2dd-4f44-d94a-e78cfbfade49"
      },
      "outputs": [
        {
          "output_type": "stream",
          "name": "stdout",
          "text": [
            "wendel lagartixa endel lagartixa ndel lagartixa del lagartixa el lagartixa l lagartixa  lagartixa lagartixa agartixa gartixa artixa rtixa tixa ixa xa a "
          ]
        }
      ],
      "source": [
        "x = 'wendel lagartixa'\n",
        "while x:\n",
        "  print(x, end=' ')\n",
        "  x = x [1:]\n",
        ""
      ]
    },
    {
      "cell_type": "code",
      "source": [
        "x = 10\n",
        "while x:\n",
        "  print(\"valor de x: \")\n",
        "  x-=1 # mesma coisa de x = x-1\n",
        "  if x % 2 !=0:\n",
        "    continue\n",
        "  print(x,end=' ')"
      ],
      "metadata": {
        "id": "DCO7Ym4ejKvA",
        "outputId": "0cff2e8f-90ca-4104-e73b-320645a44610",
        "colab": {
          "base_uri": "https://localhost:8080/"
        }
      },
      "execution_count": 17,
      "outputs": [
        {
          "output_type": "stream",
          "name": "stdout",
          "text": [
            "valor de x: \n",
            "valor de x: \n",
            "8 valor de x: \n",
            "valor de x: \n",
            "6 valor de x: \n",
            "valor de x: \n",
            "4 valor de x: \n",
            "valor de x: \n",
            "2 valor de x: \n",
            "valor de x: \n",
            "0 "
          ]
        }
      ]
    }
  ]
}