{
  "nbformat": 4,
  "nbformat_minor": 0,
  "metadata": {
    "colab": {
      "provenance": [],
      "authorship_tag": "ABX9TyM2zuseIC+TdJFKQtI+Xt82",
      "include_colab_link": true
    },
    "kernelspec": {
      "name": "python3",
      "display_name": "Python 3"
    },
    "language_info": {
      "name": "python"
    }
  },
  "cells": [
    {
      "cell_type": "markdown",
      "metadata": {
        "id": "view-in-github",
        "colab_type": "text"
      },
      "source": [
        "<a href=\"https://colab.research.google.com/github/D-ANIELLUIS/AlgoritmoeEstruturadeDadosEngSanitria/blob/main/Atividade_04_Lista_de_Exerc%C3%ADcios_de_Revis%C3%A3o_1.ipynb\" target=\"_parent\"><img src=\"https://colab.research.google.com/assets/colab-badge.svg\" alt=\"Open In Colab\"/></a>"
      ]
    },
    {
      "cell_type": "markdown",
      "source": [
        "# Atividade 04: Lista de Exercícios de Revisão 1\n",
        "\n"
      ],
      "metadata": {
        "id": "m-pF92C9d7vZ"
      }
    },
    {
      "cell_type": "code",
      "execution_count": 9,
      "metadata": {
        "colab": {
          "base_uri": "https://localhost:8080/"
        },
        "id": "9lsvc5uNdtjO",
        "outputId": "d950f8af-7625-4e85-8382-1a3780d7139a"
      },
      "outputs": [
        {
          "output_type": "stream",
          "name": "stdout",
          "text": [
            "Olá Mundo!\n"
          ]
        }
      ],
      "source": [
        "# 1. Escreva um programa que imprima \"Olá, Mundo!\" na tela.\n",
        "print (\"Olá Mundo!\")"
      ]
    },
    {
      "cell_type": "code",
      "source": [
        "#2. Crie um programa que leia três notas de um aluno e calcule a média final.\n",
        "print(\"Calculadora de média de alunos\")\n",
        "n1 = float( input(\"Digite a nota 1: \") )\n",
        "n2 = float( input(\"Digite a nota 2: \") )\n",
        "n3 = float( input(\"Digite a nota 3: \") )\n",
        "media = (n1 + n2 + n3) / 3\n",
        "print(f\"A média final das notas é: {media:.2f}\")"
      ],
      "metadata": {
        "colab": {
          "base_uri": "https://localhost:8080/"
        },
        "id": "0mki3_VNexOw",
        "outputId": "6243c0f8-eb3d-4123-9027-c8717da39c04"
      },
      "execution_count": 12,
      "outputs": [
        {
          "output_type": "stream",
          "name": "stdout",
          "text": [
            "Calculadora de média de alunos\n",
            "Digite a nota 1: 7\n",
            "Digite a nota 2: 5\n",
            "Digite a nota 3: 7\n",
            "A média final das notas é: 6.33\n"
          ]
        }
      ]
    },
    {
      "cell_type": "code",
      "source": [
        "# prompt:\n",
        "#3. Escreva um programa que calcule a média de notas, permitindo a entrada repetida de notas até que o usuário indique que não deseja mais inserir.\n",
        "\n",
        "# uso de IA para a realização desse exercídio\n",
        "\n",
        "# Programa para calcular a média de notas com entrada repetida\n",
        "notas = []\n",
        "while True:\n",
        "    nota = input(\"Digite uma nota (ou 'sair' para encerrar): \")\n",
        "    if nota.lower() == 'sair':\n",
        "        break\n",
        "    try:\n",
        "        notas.append(float(nota))\n",
        "    except ValueError:\n",
        "        print(\"Entrada inválida. Por favor, digite um número ou 'sair'.\")\n",
        "\n",
        "if notas:\n",
        "    media = sum(notas) / len(notas)\n",
        "    print(f\"A média das notas é: {media:.2f}\")\n",
        "else:\n",
        "    print(\"Nenhuma nota foi inserida.\")\n"
      ],
      "metadata": {
        "colab": {
          "base_uri": "https://localhost:8080/"
        },
        "id": "qPnL9jqHhH-e",
        "outputId": "4e0ce82e-65ea-49fb-e4b4-cce0aaf9aad6"
      },
      "execution_count": 18,
      "outputs": [
        {
          "output_type": "stream",
          "name": "stdout",
          "text": [
            "Digite uma nota (ou 'sair' para encerrar): sair\n",
            "Nenhuma nota foi inserida.\n"
          ]
        }
      ]
    },
    {
      "cell_type": "code",
      "source": [
        "# 4. Crie um programa que leia três números e determine o maior deles.\n",
        "n1 = input(\"Digite o número 1: \")\n",
        "n2 = input(\"Digite o número 2: \")\n",
        "n3 = input(\"Digite o número 3: \")\n",
        "\n",
        "# também foi usado a AI. Esta sendo muito util. Mas na hora da prova...\n",
        "if n1 > n2 and n1 > n3:\n",
        "    maior = n1\n",
        "elif n2 > n1 and n2 > n3:\n",
        "    maior = n2\n",
        "else:\n",
        "    maior = n3\n",
        "print(f\"O maior número é: {maior}\")\n"
      ],
      "metadata": {
        "colab": {
          "base_uri": "https://localhost:8080/"
        },
        "id": "pEVi3IJYiJBH",
        "outputId": "fb18bc90-8c73-477c-bbc0-87e865f056c6"
      },
      "execution_count": 19,
      "outputs": [
        {
          "output_type": "stream",
          "name": "stdout",
          "text": [
            "Digite o número 1: 1\n",
            "Digite o número 2: 9\n",
            "Digite o número 3: 2\n",
            "O maior número é: 9\n"
          ]
        }
      ]
    },
    {
      "cell_type": "code",
      "source": [
        "# prompt: 5. Desenvolva um programa que monitore a qualidade da água de um reservatório usando um loop while.\n",
        "\n",
        "# Parâmetros iniciais\n",
        "nivel_ideal = 50  # Nível ideal de água\n",
        "qualidade_ideal = 7.0  # pH ideal da água\n",
        "temperatura_ideal = 25  # Temperatura ideal da água em Celsius\n",
        "\n",
        "# Loop de monitoramento\n",
        "while True:\n",
        "  nivel_atual = float(input(\"Digite o nível atual da água: \"))\n",
        "  qualidade_atual = float(input(\"Digite o pH atual da água: \"))\n",
        "  temperatura_atual = float(input(\"Digite a temperatura atual da água (Celsius): \"))\n",
        "\n",
        "  # Verificações e ações\n",
        "  if nivel_atual < nivel_ideal:\n",
        "    print(\"Nível de água abaixo do ideal. Acionando sistema de reabastecimento.\")\n",
        "  elif nivel_atual > nivel_ideal:\n",
        "    print(\"Nível de água acima do ideal. Acionando sistema de drenagem.\")\n",
        "  else:\n",
        "    print(\"Nível de água ideal.\")\n",
        "\n",
        "  if qualidade_atual < qualidade_ideal:\n",
        "    print(\"pH da água abaixo do ideal. Acionando sistema de correção de pH.\")\n",
        "  elif qualidade_atual > qualidade_ideal:\n",
        "    print(\"pH da água acima do ideal. Acionando sistema de correção de pH.\")\n",
        "  else:\n",
        "    print(\"pH da água ideal.\")\n",
        "\n",
        "  if temperatura_atual < temperatura_ideal:\n",
        "    print(\"Temperatura da água abaixo do ideal. Acionando sistema de aquecimento.\")\n",
        "  elif temperatura_atual > temperatura_ideal:\n",
        "    print(\"Temperatura da água acima do ideal. Acionando sistema de resfriamento.\")\n",
        "  else:\n",
        "    print(\"Temperatura da água ideal.\")\n",
        "\n",
        "  continuar = input(\"Deseja continuar monitorando? (s/n): \")\n",
        "  if continuar.lower() != 's':\n",
        "    break\n",
        "\n",
        "print(\"Monitoramento encerrado.\")\n"
      ],
      "metadata": {
        "colab": {
          "base_uri": "https://localhost:8080/"
        },
        "id": "mS8nKSiSj3mG",
        "outputId": "542df123-76bb-40a3-dbf2-0e3302f92e11"
      },
      "execution_count": 20,
      "outputs": [
        {
          "output_type": "stream",
          "name": "stdout",
          "text": [
            "Digite o nível atual da água: 2\n",
            "Digite o pH atual da água: 6.4\n",
            "Digite a temperatura atual da água (Celsius): 27\n",
            "Nível de água abaixo do ideal. Acionando sistema de reabastecimento.\n",
            "pH da água abaixo do ideal. Acionando sistema de correção de pH.\n",
            "Temperatura da água acima do ideal. Acionando sistema de resfriamento.\n",
            "Deseja continuar monitorando? (s/n): n\n",
            "Monitoramento encerrado.\n"
          ]
        }
      ]
    },
    {
      "cell_type": "code",
      "source": [
        "# prompt: 6. Implemente um programa que utilize um loop while para calcular a soma dos números de 1 a 100.\n",
        "\n",
        "# Inicializa a variável soma e o contador\n",
        "soma = 0\n",
        "contador = 1\n",
        "\n",
        "# Loop while para somar os números de 1 a 100\n",
        "while contador <= 100:\n",
        "  soma += contador\n",
        "  contador += 1\n",
        "\n",
        "# Imprime o resultado da soma\n",
        "print(\"A soma dos números de 1 a 100 é:\", soma)\n"
      ],
      "metadata": {
        "colab": {
          "base_uri": "https://localhost:8080/"
        },
        "id": "umD-p6uZjbkj",
        "outputId": "6deaa338-52f1-49c5-d3ad-1bca757d96e1"
      },
      "execution_count": 21,
      "outputs": [
        {
          "output_type": "stream",
          "name": "stdout",
          "text": [
            "A soma dos números de 1 a 100 é: 5050\n"
          ]
        }
      ]
    },
    {
      "cell_type": "code",
      "source": [
        "# prompt: 7. Escreva um programa que imprima todos os números ímpares de 1 a 50 usando um loop for.\n",
        "\n",
        "# Imprime todos os números ímpares de 1 a 50 usando um loop for\n",
        "for numero in range(1, 51):\n",
        "  if numero % 2 != 0:\n",
        "    print(numero)\n"
      ],
      "metadata": {
        "colab": {
          "base_uri": "https://localhost:8080/"
        },
        "id": "bLGah731kgRR",
        "outputId": "2037aa3b-d5a6-44f4-b262-6a91d978bd55"
      },
      "execution_count": 22,
      "outputs": [
        {
          "output_type": "stream",
          "name": "stdout",
          "text": [
            "1\n",
            "3\n",
            "5\n",
            "7\n",
            "9\n",
            "11\n",
            "13\n",
            "15\n",
            "17\n",
            "19\n",
            "21\n",
            "23\n",
            "25\n",
            "27\n",
            "29\n",
            "31\n",
            "33\n",
            "35\n",
            "37\n",
            "39\n",
            "41\n",
            "43\n",
            "45\n",
            "47\n",
            "49\n"
          ]
        }
      ]
    },
    {
      "cell_type": "code",
      "source": [
        "# prompt: 8. Desenvolva um programa que utilize os objetos built-in do Python para realizar operações com listas e dicionários.\n",
        "\n",
        "# Criando uma lista\n",
        "minha_lista = [1, 2, 3, \"Olá\", True]\n",
        "\n",
        "# Adicionando elementos à lista\n",
        "minha_lista.append(4)\n",
        "minha_lista.extend([5, 6])\n",
        "\n",
        "# Removendo elementos da lista\n",
        "minha_lista.remove(\"Olá\")\n",
        "elemento_removido = minha_lista.pop(0)\n",
        "\n",
        "# Acessando elementos da lista\n",
        "primeiro_elemento = minha_lista[0]\n",
        "ultimo_elemento = minha_lista[-1]\n",
        "\n",
        "# Fatiando a lista\n",
        "sublista = minha_lista[1:4]\n",
        "\n",
        "# Criando um dicionário\n",
        "meu_dicionario = {\"nome\": \"João\", \"idade\": 30, \"cidade\": \"São Paulo\"}\n",
        "\n",
        "# Adicionando elementos ao dicionário\n",
        "meu_dicionario[\"profissão\"] = \"Engenheiro\"\n",
        "\n",
        "# Removendo elementos do dicionário\n",
        "del meu_dicionario[\"cidade\"]\n",
        "\n",
        "# Acessando elementos do dicionário\n",
        "nome = meu_dicionario[\"nome\"]\n",
        "idade = meu_dicionario.get(\"idade\")\n",
        "\n",
        "# Iterando sobre a lista e o dicionário\n",
        "for elemento in minha_lista:\n",
        "    print(elemento)\n",
        "\n",
        "for chave, valor in meu_dicionario.items():\n",
        "    print(f\"{chave}: {valor}\")\n"
      ],
      "metadata": {
        "colab": {
          "base_uri": "https://localhost:8080/"
        },
        "id": "oPYoFso4kpYh",
        "outputId": "89ccdc2c-4249-47b9-a88b-f36509327cf5"
      },
      "execution_count": 23,
      "outputs": [
        {
          "output_type": "stream",
          "name": "stdout",
          "text": [
            "2\n",
            "3\n",
            "True\n",
            "4\n",
            "5\n",
            "6\n",
            "nome: João\n",
            "idade: 30\n",
            "profissão: Engenheiro\n"
          ]
        }
      ]
    }
  ]
}