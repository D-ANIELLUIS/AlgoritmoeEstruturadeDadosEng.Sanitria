{
  "nbformat": 4,
  "nbformat_minor": 0,
  "metadata": {
    "colab": {
      "provenance": [],
      "authorship_tag": "ABX9TyPxMLfe/vk9vaePnUPmGkwx",
      "include_colab_link": true
    },
    "kernelspec": {
      "name": "python3",
      "display_name": "Python 3"
    },
    "language_info": {
      "name": "python"
    }
  },
  "cells": [
    {
      "cell_type": "markdown",
      "metadata": {
        "id": "view-in-github",
        "colab_type": "text"
      },
      "source": [
        "<a href=\"https://colab.research.google.com/github/D-ANIELLUIS/AlgoritmoeEstruturadeDadosEngSanitria/blob/main/Atividade_05_eh_palindromo.ipynb\" target=\"_parent\"><img src=\"https://colab.research.google.com/assets/colab-badge.svg\" alt=\"Open In Colab\"/></a>"
      ]
    },
    {
      "cell_type": "code",
      "execution_count": null,
      "metadata": {
        "id": "qqqhlb7vjpT9"
      },
      "outputs": [],
      "source": [
        "def eh_palindromo(s):\n",
        "  #pass\n",
        "   # Remove espaços e converte para minúsculas\n",
        "    s = s.replace(\" \", \"\").lower()\n",
        "    # Verifica se a string é igual à sua versão invertida\n",
        "    return s == s[::-1]"
      ]
    }
  ]
}