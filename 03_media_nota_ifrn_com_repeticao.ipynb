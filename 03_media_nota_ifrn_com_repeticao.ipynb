{
  "nbformat": 4,
  "nbformat_minor": 0,
  "metadata": {
    "colab": {
      "provenance": [],
      "authorship_tag": "ABX9TyOyoXPHW1avBiPMeNA6FSMd",
      "include_colab_link": true
    },
    "kernelspec": {
      "name": "python3",
      "display_name": "Python 3"
    },
    "language_info": {
      "name": "python"
    }
  },
  "cells": [
    {
      "cell_type": "markdown",
      "metadata": {
        "id": "view-in-github",
        "colab_type": "text"
      },
      "source": [
        "<a href=\"https://colab.research.google.com/github/D-ANIELLUIS/AlgoritmoeEstruturadeDadosEngSanitria/blob/main/03_media_nota_ifrn_com_repeticao.ipynb\" target=\"_parent\"><img src=\"https://colab.research.google.com/assets/colab-badge.svg\" alt=\"Open In Colab\"/></a>"
      ]
    },
    {
      "cell_type": "code",
      "execution_count": 3,
      "metadata": {
        "colab": {
          "base_uri": "https://localhost:8080/",
          "height": 280
        },
        "id": "TR57QTo7hh92",
        "outputId": "37940b0c-bbae-4194-c6bf-67557c74ff37"
      },
      "outputs": [
        {
          "name": "stdout",
          "output_type": "stream",
          "text": [
            "Calculadora de média ponderada do IFRN\n",
            "digite o número de alunos: 2\n",
            "Digite a nota 1(com peso 2):  6\n",
            "Digite a nota 2(com peso 3):  7\n"
          ]
        },
        {
          "output_type": "error",
          "ename": "TypeError",
          "evalue": "can only concatenate str (not \"int\") to str",
          "traceback": [
            "\u001b[0;31m---------------------------------------------------------------------------\u001b[0m",
            "\u001b[0;31mTypeError\u001b[0m                                 Traceback (most recent call last)",
            "\u001b[0;32m<ipython-input-3-423353d805c0>\u001b[0m in \u001b[0;36m<cell line: 5>\u001b[0;34m()\u001b[0m\n\u001b[1;32m     10\u001b[0m \u001b[0;34m\u001b[0m\u001b[0m\n\u001b[1;32m     11\u001b[0m   \u001b[0;31m#imprima o numero de aluno da vez\u001b[0m\u001b[0;34m\u001b[0m\u001b[0;34m\u001b[0m\u001b[0m\n\u001b[0;32m---> 12\u001b[0;31m   \u001b[0mprint\u001b[0m\u001b[0;34m(\u001b[0m\u001b[0;34m\"Aluno \"\u001b[0m\u001b[0;34m+\u001b[0m \u001b[0maluno\u001b[0m\u001b[0;34m)\u001b[0m\u001b[0;34m\u001b[0m\u001b[0;34m\u001b[0m\u001b[0m\n\u001b[0m\u001b[1;32m     13\u001b[0m \u001b[0;34m\u001b[0m\u001b[0m\n\u001b[1;32m     14\u001b[0m   \u001b[0;31m#Calculo da media ponderada\u001b[0m\u001b[0;34m\u001b[0m\u001b[0;34m\u001b[0m\u001b[0m\n",
            "\u001b[0;31mTypeError\u001b[0m: can only concatenate str (not \"int\") to str"
          ]
        }
      ],
      "source": [
        "print(\"Calculadora de média ponderada do IFRN\")\n",
        "\n",
        "#Perguntando, para quantos alunos, desejo calcular média\n",
        "num_alunos = int(input(\"digite o número de alunos: \"))\n",
        "for aluno in range(1, num_alunos+1):\n",
        "  #Float, tipagem explícita, para garantir número fracionário\n",
        "  n1 = float( input(\"Digite a nota 1(com peso 2):  \") )\n",
        "  n2 = float( input(\"Digite a nota 2(com peso 3):  \") )\n",
        "\n",
        "\n",
        "  #imprima o numero de aluno da vez\n",
        "  print(\"Aluno \"+ aluno)    #aluno não é range\n",
        "\n",
        "  #Calculo da media ponderada\n",
        "  media = ((( n1 * 2 ) + ( n2 * 3 ) ) / 5)\n",
        "\n",
        "  #impressão da média\n",
        "  print(f\"A média ponderada das notas é: {media:.2f}\") # o segundo f é para garantir que tenha 2 casas decimais\n",
        "\n",
        "  #apresentar se o aluno foi aprovado ou não\n",
        "  if media >= 6: #if é condição se for verdadeira\n",
        "    print(\"Aprovado ❤️, Proxima etapa, Linguagem de Programação.\")\n",
        "  else: #else é condição se for falsa\n",
        "    if n1 >= 4 and n2 >= 4:\n",
        "      print(\"Prova Final ☠️\")\n",
        "    else:\n",
        "      print(\"Reprovado, até próximo semetre 😁\")"
      ]
    }
  ]
}