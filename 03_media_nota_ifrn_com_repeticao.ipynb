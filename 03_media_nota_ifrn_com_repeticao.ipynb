{
  "nbformat": 4,
  "nbformat_minor": 0,
  "metadata": {
    "colab": {
      "provenance": [],
      "authorship_tag": "ABX9TyPxqAb4/6Z2y+HTA9g8H/sV",
      "include_colab_link": true
    },
    "kernelspec": {
      "name": "python3",
      "display_name": "Python 3"
    },
    "language_info": {
      "name": "python"
    }
  },
  "cells": [
    {
      "cell_type": "markdown",
      "metadata": {
        "id": "view-in-github",
        "colab_type": "text"
      },
      "source": [
        "<a href=\"https://colab.research.google.com/github/D-ANIELLUIS/AlgoritmoeEstruturadeDadosEngSanitria/blob/main/03_media_nota_ifrn_com_repeticao.ipynb\" target=\"_parent\"><img src=\"https://colab.research.google.com/assets/colab-badge.svg\" alt=\"Open In Colab\"/></a>"
      ]
    },
    {
      "cell_type": "code",
      "execution_count": 11,
      "metadata": {
        "colab": {
          "base_uri": "https://localhost:8080/"
        },
        "id": "TR57QTo7hh92",
        "outputId": "7108524e-9418-4088-fd9c-7ce9746d6d43"
      },
      "outputs": [
        {
          "output_type": "stream",
          "name": "stdout",
          "text": [
            "Calculadora de média ponderada do IFRN\n",
            "digite o número de alunos: 2\n",
            "Digite a nota 1(com peso 2):  6\n",
            "Digite a nota 2(com peso 3):  8\n",
            "\n",
            "Aluno 1:\n",
            "A média ponderada das notas é: 7.20\n",
            "Aprovado ❤️, Proxima etapa, Linguagem de Programação.\n",
            "Digite a nota 1(com peso 2):  5\n",
            "Digite a nota 2(com peso 3):  4\n",
            "\n",
            "Aluno 2:\n",
            "A média ponderada das notas é: 4.40\n",
            "Prova Final ☠️\n"
          ]
        }
      ],
      "source": [
        "print(\"Calculadora de média ponderada do IFRN\")\n",
        "\n",
        "#Perguntando, para quantos alunos, desejo calcular média\n",
        "num_alunos = int(input(\"digite o número de alunos: \"))\n",
        "for aluno in range(1, num_alunos+1):\n",
        "  #Float, tipagem explícita, para garantir número fracionário\n",
        "  n1 = float( input(\"Digite a nota 1(com peso 2):  \") )\n",
        "  n2 = float( input(\"Digite a nota 2(com peso 3):  \") )\n",
        "\n",
        "  #imprima o numero de aluno da vez\n",
        "  print(f\"\\nAluno {aluno}:\")\n",
        "\n",
        "  #Calculo da media ponderada\n",
        "  media = ((( n1 * 2 ) + ( n2 * 3 ) ) / 5)\n",
        "\n",
        "  #impressão da média\n",
        "  print(f\"A média ponderada das notas é: {media:.2f}\") # o segundo f é para garantir que tenha 2 casas decimais\n",
        "\n",
        "  #apresentar se o aluno foi aprovado ou não\n",
        "  if media >= 6: #if é condição se for verdadeira\n",
        "    print(\"Aprovado ❤️, Proxima etapa, Linguagem de Programação.\")\n",
        "  else: #else é condição se for falsa\n",
        "    if n1 >= 4 and n2 >= 4:\n",
        "      print(\"Prova Final ☠️\")\n",
        "    else:\n",
        "      print(\"Reprovado, até próximo semetre 😁\")"
      ]
    }
  ]
}