{
  "nbformat": 4,
  "nbformat_minor": 0,
  "metadata": {
    "colab": {
      "provenance": [],
      "authorship_tag": "ABX9TyMYXzpk6K0N+0xag7MMX8Q0",
      "include_colab_link": true
    },
    "kernelspec": {
      "name": "python3",
      "display_name": "Python 3"
    },
    "language_info": {
      "name": "python"
    }
  },
  "cells": [
    {
      "cell_type": "markdown",
      "metadata": {
        "id": "view-in-github",
        "colab_type": "text"
      },
      "source": [
        "<a href=\"https://colab.research.google.com/github/D-ANIELLUIS/AlgoritmoeEstruturadeDadosEngSanitria/blob/main/Atividade_05_contar_palavra.ipynb\" target=\"_parent\"><img src=\"https://colab.research.google.com/assets/colab-badge.svg\" alt=\"Open In Colab\"/></a>"
      ]
    },
    {
      "cell_type": "code",
      "execution_count": null,
      "metadata": {
        "id": "xpVv_vfJo0gq"
      },
      "outputs": [],
      "source": [
        "def contar_palavra(arquivo, palavra):\n",
        "  try:\n",
        "      # Abre o arquivo para leitura\n",
        "      with open(arquivo, 'r', encoding='utf-8') as f:\n",
        "          # Lê o conteúdo do arquivo\n",
        "          conteudo = f.read()\n",
        "\n",
        "      # Verifica se a palavra não é uma string vazia\n",
        "      if not palavra:\n",
        "          print(\"A palavra para contar não pode ser uma string vazia.\")\n",
        "          return 0\n",
        "\n",
        "      # Divide o conteúdo em palavras e conta as ocorrências da palavra\n",
        "      palavras = conteudo.lower().split()\n",
        "\n",
        "      # Conta as ocorrências da palavra\n",
        "      return palavras.count(palavra.lower())\n",
        "\n",
        "  except FileNotFoundError:\n",
        "      print(f\"O arquivo {arquivo} não foi encontrado.\")\n",
        "      return 0\n",
        "  except Exception as e:\n",
        "      print(f\"Ocorreu um erro: {e}\")\n",
        "      return 0"
      ]
    }
  ]
}