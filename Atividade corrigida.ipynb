{
  "nbformat": 4,
  "nbformat_minor": 0,
  "metadata": {
    "colab": {
      "provenance": [],
      "include_colab_link": true
    },
    "kernelspec": {
      "name": "python3",
      "display_name": "Python 3"
    },
    "language_info": {
      "name": "python"
    }
  },
  "cells": [
    {
      "cell_type": "markdown",
      "metadata": {
        "id": "view-in-github",
        "colab_type": "text"
      },
      "source": [
        "<a href=\"https://colab.research.google.com/github/D-ANIELLUIS/AlgoritmoeEstruturadeDadosEngSanitria/blob/main/Atividade%20corrigida.ipynb\" target=\"_parent\"><img src=\"https://colab.research.google.com/assets/colab-badge.svg\" alt=\"Open In Colab\"/></a>"
      ]
    },
    {
      "cell_type": "code",
      "execution_count": 6,
      "metadata": {
        "colab": {
          "base_uri": "https://localhost:8080/"
        },
        "id": "N9YaQTHKai7V",
        "outputId": "1b81bc42-eb12-4185-889e-7a99402c8f07"
      },
      "outputs": [
        {
          "output_type": "stream",
          "name": "stdout",
          "text": [
            "Calculadora de média ponderada do IFRN\n",
            "Digite o peso 1 (para a nota1): 2\n",
            "Digite o peso 2 (para a nota2): 3\n",
            "Digite a nota 1: 10\n",
            "Digite a nota 2: 9\n",
            "A média ponderada das notas é: 9.40\n",
            "Aprovado\n"
          ]
        }
      ],
      "source": [
        "print(\"Calculadora de média ponderada do IFRN\")\n",
        "\n",
        "# Float, tipagem explícita, para garantir número fracionário\n",
        "peso_nota1 = float(input(\"Digite o peso 1 (para a nota1): \"))\n",
        "peso_nota2 = float(input(\"Digite o peso 2 (para a nota2): \"))\n",
        "n1 = float(input(\"Digite a nota 1: \"))\n",
        "n2 = float(input(\"Digite a nota 2: \"))\n",
        "\n",
        "soma_dos_pesos = peso_nota1 + peso_nota2\n",
        "\n",
        "# Cálculo de média ponderada\n",
        "media = (n1 * peso_nota1 + n2 * peso_nota2) / soma_dos_pesos\n",
        "\n",
        "\n",
        "# Apresentar se o aluno foi aprovado ou não\n",
        "if media >= 6 and media <= 10:\n",
        "        # Impressão da média\n",
        "    if n1 > 10 or n2 > 10:\n",
        "        print(\"Error ⚠️\")\n",
        "    else:\n",
        "        print(f\"A média ponderada das notas é: {media:.2f}\")\n",
        "        print(\"Aprovado\")\n",
        "\n",
        "elif n1 >= 2 and n2 >= 2 and n1 <= 10 and n2 <= 10:\n",
        "    print(\"Prova final\")\n",
        "elif n1 > 10 or n2 > 10:\n",
        "    print(\"Tente valores entre 1 e 10\")\n",
        "elif media < 2:\n",
        "    print(\"Reprovado\")\n",
        "else:\n",
        "    print(\"Reprovado\")"
      ]
    }
  ]
}