{
  "nbformat": 4,
  "nbformat_minor": 0,
  "metadata": {
    "colab": {
      "provenance": [],
      "authorship_tag": "ABX9TyPutAnglTg0EUuvbtZFhX01",
      "include_colab_link": true
    },
    "kernelspec": {
      "name": "python3",
      "display_name": "Python 3"
    },
    "language_info": {
      "name": "python"
    }
  },
  "cells": [
    {
      "cell_type": "markdown",
      "metadata": {
        "id": "view-in-github",
        "colab_type": "text"
      },
      "source": [
        "<a href=\"https://colab.research.google.com/github/D-ANIELLUIS/AlgoritmoeEstruturadeDadosEngSanitria/blob/main/Atividade%205.ipynb\" target=\"_parent\"><img src=\"https://colab.research.google.com/assets/colab-badge.svg\" alt=\"Open In Colab\"/></a>"
      ]
    },
    {
      "cell_type": "markdown",
      "source": [
        "**Atividade 05:** Exercícios"
      ],
      "metadata": {
        "id": "qDQCgnu8FpOu"
      }
    },
    {
      "cell_type": "markdown",
      "source": [
        "1. Crie um programa que leia um número inteiro. Quando este for negativo,\n",
        "some-o com 100; quando positivo, apenas faça sua impressão.\n"
      ],
      "metadata": {
        "id": "-1Uku4RFFq91"
      }
    },
    {
      "cell_type": "code",
      "execution_count": null,
      "metadata": {
        "colab": {
          "base_uri": "https://localhost:8080/"
        },
        "id": "BnPIkY1HFmO1",
        "outputId": "82c36acb-69c5-4523-af78-a0e8bdbe5ea1"
      },
      "outputs": [
        {
          "output_type": "stream",
          "name": "stdout",
          "text": [
            "digite um número inteiro: -1\n",
            "99\n"
          ]
        }
      ],
      "source": [
        "n = int(input('digite um número inteiro: '))\n",
        "sn = n + 100\n",
        "if n < 0:\n",
        "  print(sn)\n",
        "else:\n",
        "  print(n)"
      ]
    },
    {
      "cell_type": "markdown",
      "source": [
        "2. Crie um programa que leia o código de um curso do IFRN, Campus\n",
        "Natal Central, e indique o nome do curso de acordo com a tabela abaixo. Se o\n",
        "programa ler um código inexistente no Instituto, uma mensagem de alerta deve\n",
        "ser informada ao usuário.\n",
        "\n",
        "Código Curso\n",
        "1.  Técnico em Informática Subseqüente\n",
        "2.  Técnico em Informática EJA\n",
        "3.  Técnico em Cooperativismo\n",
        "4.  Técnico em Cooperativismo EJA\n",
        "5.   Licenciatura em Física\n"
      ],
      "metadata": {
        "id": "UULu4OPWG1Iu"
      }
    },
    {
      "cell_type": "code",
      "source": [
        "print('Código do curso')\n",
        "print('1. Técnico em Informática Subseqüente')\n",
        "print('2. Técnico em Informática EJA')\n",
        "print('3. Técnico em Cooperativismo')\n",
        "print('4. Técnico em Cooperativismo EJA')\n",
        "print('5. Licenciatura em Física')\n",
        "c = int(input('Digite o código do curso: '))\n",
        "\n",
        "if c == 1:\n",
        "  print('Técnico em Informática Subseqüente')\n",
        "elif c == 2:\n",
        "  print('Técnico em Informática EJA')\n",
        "elif c == 3:\n",
        "  print('Técnico em Cooperativismo')\n",
        "elif c == 4:\n",
        "  print('Técnico em Cooperativismo EJA')\n",
        "elif c == 5:\n",
        "  print('Licenciatura em Física')\n",
        "else:\n",
        "  print('Código inválido')\n"
      ],
      "metadata": {
        "colab": {
          "base_uri": "https://localhost:8080/",
          "height": 332
        },
        "id": "BuA3mU2AHrrh",
        "outputId": "f1440096-7b49-4f0e-a856-e148293797fc"
      },
      "execution_count": 16,
      "outputs": [
        {
          "name": "stdout",
          "output_type": "stream",
          "text": [
            "Código do curso\n",
            "1. Técnico em Informática Subseqüente\n",
            "2. Técnico em Informática EJA\n",
            "3. Técnico em Cooperativismo\n",
            "4. Técnico em Cooperativismo EJA\n",
            "5. Licenciatura em Física\n",
            "Digite o código do curso: tec\n"
          ]
        },
        {
          "output_type": "error",
          "ename": "ValueError",
          "evalue": "invalid literal for int() with base 10: 'tec'",
          "traceback": [
            "\u001b[0;31m---------------------------------------------------------------------------\u001b[0m",
            "\u001b[0;31mValueError\u001b[0m                                Traceback (most recent call last)",
            "\u001b[0;32m<ipython-input-16-cfc4a85c835d>\u001b[0m in \u001b[0;36m<cell line: 7>\u001b[0;34m()\u001b[0m\n\u001b[1;32m      5\u001b[0m \u001b[0mprint\u001b[0m\u001b[0;34m(\u001b[0m\u001b[0;34m'4. Técnico em Cooperativismo EJA'\u001b[0m\u001b[0;34m)\u001b[0m\u001b[0;34m\u001b[0m\u001b[0;34m\u001b[0m\u001b[0m\n\u001b[1;32m      6\u001b[0m \u001b[0mprint\u001b[0m\u001b[0;34m(\u001b[0m\u001b[0;34m'5. Licenciatura em Física'\u001b[0m\u001b[0;34m)\u001b[0m\u001b[0;34m\u001b[0m\u001b[0;34m\u001b[0m\u001b[0m\n\u001b[0;32m----> 7\u001b[0;31m \u001b[0mc\u001b[0m \u001b[0;34m=\u001b[0m \u001b[0mint\u001b[0m\u001b[0;34m(\u001b[0m\u001b[0minput\u001b[0m\u001b[0;34m(\u001b[0m\u001b[0;34m'Digite o código do curso: '\u001b[0m\u001b[0;34m)\u001b[0m\u001b[0;34m)\u001b[0m\u001b[0;34m\u001b[0m\u001b[0;34m\u001b[0m\u001b[0m\n\u001b[0m\u001b[1;32m      8\u001b[0m \u001b[0;34m\u001b[0m\u001b[0m\n\u001b[1;32m      9\u001b[0m \u001b[0;32mif\u001b[0m \u001b[0mc\u001b[0m \u001b[0;34m==\u001b[0m \u001b[0;36m1\u001b[0m\u001b[0;34m:\u001b[0m\u001b[0;34m\u001b[0m\u001b[0;34m\u001b[0m\u001b[0m\n",
            "\u001b[0;31mValueError\u001b[0m: invalid literal for int() with base 10: 'tec'"
          ]
        }
      ]
    },
    {
      "cell_type": "markdown",
      "source": [
        "3. Leia duas strings e informe o conteúdo delas\n",
        "seguido do seu comprimento.\n",
        "  \n",
        "  3a. Crie uma variável res1 que informa se as duas\n",
        "  strings possuem o mesmo comprimento.\n",
        "  Observe o exemplo:\n",
        "  ● Compara duas strings\n",
        "  ● string1: Brasil Hexa 2006\n",
        "  ● string2: Brasil! Hexa 2006!\n",
        "  ● Tamanho de \"Brasil Hexa 2006\": 16 caracteres\n",
        "  ● Tamanho de \"Brasil! Hexa 2006!\": 18 caracteres\n",
        "\n",
        "  3b. Crie uma variável res2 que informa se as duasstrings são iguais ou diferentes no conteúdo.\n",
        "  Observe o exemplo:\n",
        "  ● Compara duas strings\n",
        "  ● string1: Brasil Hexa 2006\n",
        "  ● string2: Brasil! Hexa 2006!\n",
        "  ● Res1 = len(string1) == len(string2)\n",
        "  ● Res2 = (string1 == string2)"
      ],
      "metadata": {
        "id": "iEfY0E2GLSbH"
      }
    },
    {
      "cell_type": "code",
      "source": [
        "print('Digite duas palavras')\n",
        "s1 = str(input('palavra 1: '))\n",
        "s2 = str(input('palavra 2: '))\n",
        "len (s1) == len (s2)\n",
        "print(\"Tamanho de:\", s1, len (s1), 'caracteres')\n",
        "print(\"Tamanho de:\", s2, len (s2), 'caracteres')\n",
        "\n",
        "Res1 = len(s1) == len(s2)\n",
        "\n",
        "Res2 = (s1 == s2)\n",
        "\n",
        "print ('O tamanho das palavras são iguais?', Res1)\n",
        "print ('As palavras são iguais?', Res2)\n"
      ],
      "metadata": {
        "colab": {
          "base_uri": "https://localhost:8080/"
        },
        "id": "9unxuqRuLWFx",
        "outputId": "561b1605-dd2e-4559-85c9-08754660058c"
      },
      "execution_count": 9,
      "outputs": [
        {
          "output_type": "stream",
          "name": "stdout",
          "text": [
            "Digite duas palavras\n",
            "palavra 1: Daniel\n",
            "palavra 2: daniel\n",
            "Tamanho de: Daniel 6 caracteres\n",
            "Tamanho de: daniel 6 caracteres\n",
            "O tamanho das palavras são iguais? True\n",
            "As palavras são iguais? False\n"
          ]
        }
      ]
    },
    {
      "cell_type": "markdown",
      "source": [
        "4. Faça um programa que ler uma string e cortaos dois primeiros caracteres e os dois últimos\n",
        "Exemplo:\n",
        "● B = “0123456789”\n",
        "● Resultado = “234567”"
      ],
      "metadata": {
        "id": "2uOp6_V-QLxx"
      }
    },
    {
      "cell_type": "code",
      "source": [
        "print('digite uma paravra para ser cortada')\n",
        "s = str(input('Palavra cortada: '))\n",
        "print(s[2:-2])"
      ],
      "metadata": {
        "id": "6Gnnp4P8D6qS",
        "outputId": "891058ae-0ad4-49fb-f7a1-016c6c7750b5",
        "colab": {
          "base_uri": "https://localhost:8080/"
        }
      },
      "execution_count": 13,
      "outputs": [
        {
          "output_type": "stream",
          "name": "stdout",
          "text": [
            "digite uma paravra para ser cortada\n",
            "Palavra cortada: 0123456789\n",
            "234567\n"
          ]
        }
      ]
    }
  ]
}