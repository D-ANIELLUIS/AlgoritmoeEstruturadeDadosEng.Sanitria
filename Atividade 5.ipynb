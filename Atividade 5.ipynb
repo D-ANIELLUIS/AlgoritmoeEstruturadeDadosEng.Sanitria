{
  "nbformat": 4,
  "nbformat_minor": 0,
  "metadata": {
    "colab": {
      "provenance": [],
      "authorship_tag": "ABX9TyOrDWpmYMXgTSpshMALS2tV",
      "include_colab_link": true
    },
    "kernelspec": {
      "name": "python3",
      "display_name": "Python 3"
    },
    "language_info": {
      "name": "python"
    }
  },
  "cells": [
    {
      "cell_type": "markdown",
      "metadata": {
        "id": "view-in-github",
        "colab_type": "text"
      },
      "source": [
        "<a href=\"https://colab.research.google.com/github/D-ANIELLUIS/AlgoritmoeEstruturadeDadosEngSanitria/blob/main/Atividade%205.ipynb\" target=\"_parent\"><img src=\"https://colab.research.google.com/assets/colab-badge.svg\" alt=\"Open In Colab\"/></a>"
      ]
    },
    {
      "cell_type": "markdown",
      "source": [
        "**Atividade 05:** Exercícios"
      ],
      "metadata": {
        "id": "qDQCgnu8FpOu"
      }
    },
    {
      "cell_type": "markdown",
      "source": [
        "1. Crie um programa que leia um número inteiro. Quando este for negativo,\n",
        "some-o com 100; quando positivo, apenas faça sua impressão.\n"
      ],
      "metadata": {
        "id": "-1Uku4RFFq91"
      }
    },
    {
      "cell_type": "code",
      "execution_count": 9,
      "metadata": {
        "colab": {
          "base_uri": "https://localhost:8080/"
        },
        "id": "BnPIkY1HFmO1",
        "outputId": "82c36acb-69c5-4523-af78-a0e8bdbe5ea1"
      },
      "outputs": [
        {
          "output_type": "stream",
          "name": "stdout",
          "text": [
            "digite um número inteiro: -1\n",
            "99\n"
          ]
        }
      ],
      "source": [
        "n = int(input('digite um número inteiro: '))\n",
        "sn = n + 100\n",
        "if n < 0:\n",
        "  print(sn)\n",
        "else:\n",
        "  print(n)"
      ]
    },
    {
      "cell_type": "markdown",
      "source": [
        "2. Crie um programa que leia o código de um curso do IFRN, Campus\n",
        "Natal Central, e indique o nome do curso de acordo com a tabela abaixo. Se o\n",
        "programa ler um código inexistente no Instituto, uma mensagem de alerta deve\n",
        "ser informada ao usuário.\n",
        "\n",
        "Código Curso\n",
        "1.  Técnico em Informática Subseqüente\n",
        "2.  Técnico em Informática EJA\n",
        "3.  Técnico em Cooperativismo\n",
        "4.  Técnico em Cooperativismo EJA\n",
        "5.   Licenciatura em Física\n"
      ],
      "metadata": {
        "id": "UULu4OPWG1Iu"
      }
    },
    {
      "cell_type": "code",
      "source": [
        "print('Código do curso')\n",
        "print('1. Técnico em Informática Subseqüente')\n",
        "print('2. Técnico em Informática EJA')\n",
        "print('3. Técnico em Cooperativismo')\n",
        "print('4. Técnico em Cooperativismo EJA')\n",
        "print('5. Licenciatura em Física')\n",
        "c = int(input('Digite o código do curso: '))\n",
        "\n",
        "if c == 1:\n",
        "  print('Técnico em Informática Subseqüente')\n",
        "elif c == 2:\n",
        "  print('Técnico em Informática EJA')\n",
        "elif c == 3:\n",
        "  print('Técnico em Cooperativismo')\n",
        "elif c == 4:\n",
        "  print('Técnico em Cooperativismo EJA')\n",
        "elif c == 5:\n",
        "  print('Licenciatura em Física')\n",
        "else:\n",
        "  print('Código inválido')\n"
      ],
      "metadata": {
        "colab": {
          "base_uri": "https://localhost:8080/"
        },
        "id": "BuA3mU2AHrrh",
        "outputId": "6ffc7515-3be7-4c17-b645-7a17237b8d62"
      },
      "execution_count": 26,
      "outputs": [
        {
          "output_type": "stream",
          "name": "stdout",
          "text": [
            "Código do curso\n",
            "1. Técnico em Informática Subseqüente\n",
            "2. Técnico em Informática EJA\n",
            "3. Técnico em Cooperativismo\n",
            "4. Técnico em Cooperativismo EJA\n",
            "5. Licenciatura em Física\n",
            "Digite o código do curso: 2\n",
            "Técnico em Informática EJA\n"
          ]
        }
      ]
    },
    {
      "cell_type": "markdown",
      "source": [
        "3. Leia duas strings e informe o conteúdo delas\n",
        "seguido do seu comprimento.\n",
        "  \n",
        "  3a. Crie uma variável res1 que informa se as duas\n",
        "  strings possuem o mesmo comprimento.\n",
        "  Observe o exemplo:\n",
        "  ● Compara duas strings\n",
        "  ● string1: Brasil Hexa 2006\n",
        "  ● string2: Brasil! Hexa 2006!\n",
        "  ● Tamanho de \"Brasil Hexa 2006\": 16 caracteres\n",
        "  ● Tamanho de \"Brasil! Hexa 2006!\": 18 caracteres\n",
        "\n",
        "  3b. Crie uma variável res2 que informa se as duasstrings são iguais ou diferentes no conteúdo.\n",
        "  Observe o exemplo:\n",
        "  ● Compara duas strings\n",
        "  ● string1: Brasil Hexa 2006\n",
        "  ● string2: Brasil! Hexa 2006!\n",
        "  ● Res1 = len(string1) == len(string2)\n",
        "  ● Res2 = (string1 == string2)"
      ],
      "metadata": {
        "id": "iEfY0E2GLSbH"
      }
    },
    {
      "cell_type": "code",
      "source": [
        "print('Digite duas strings')\n",
        "s1 = str (input('string1: '))\n",
        "s2 = str(input('string2: '))\n",
        "len (s1) == len (s2)\n",
        "print(\"Tamanho de:\", s1, len (s1),)\n",
        "print(\"tamonho de:\", s2, len (s2))\n"
      ],
      "metadata": {
        "colab": {
          "base_uri": "https://localhost:8080/",
          "height": 211
        },
        "id": "9unxuqRuLWFx",
        "outputId": "49f4849d-c2ec-41a4-b99c-a26d0d4129fe"
      },
      "execution_count": 75,
      "outputs": [
        {
          "output_type": "error",
          "ename": "TypeError",
          "evalue": "'bool' object is not callable",
          "traceback": [
            "\u001b[0;31m---------------------------------------------------------------------------\u001b[0m",
            "\u001b[0;31mTypeError\u001b[0m                                 Traceback (most recent call last)",
            "\u001b[0;32m<ipython-input-75-02e01bc0c3ee>\u001b[0m in \u001b[0;36m<cell line: 1>\u001b[0;34m()\u001b[0m\n\u001b[0;32m----> 1\u001b[0;31m \u001b[0mprint\u001b[0m\u001b[0;34m(\u001b[0m\u001b[0;34m'Digite duas strings'\u001b[0m\u001b[0;34m)\u001b[0m\u001b[0;34m\u001b[0m\u001b[0;34m\u001b[0m\u001b[0m\n\u001b[0m\u001b[1;32m      2\u001b[0m \u001b[0ms1\u001b[0m \u001b[0;34m=\u001b[0m \u001b[0mstr\u001b[0m \u001b[0;34m(\u001b[0m\u001b[0minput\u001b[0m\u001b[0;34m(\u001b[0m\u001b[0;34m'string1: '\u001b[0m\u001b[0;34m)\u001b[0m\u001b[0;34m)\u001b[0m\u001b[0;34m\u001b[0m\u001b[0;34m\u001b[0m\u001b[0m\n\u001b[1;32m      3\u001b[0m \u001b[0ms2\u001b[0m \u001b[0;34m=\u001b[0m \u001b[0mstr\u001b[0m\u001b[0;34m(\u001b[0m\u001b[0minput\u001b[0m\u001b[0;34m(\u001b[0m\u001b[0;34m'string2: '\u001b[0m\u001b[0;34m)\u001b[0m\u001b[0;34m)\u001b[0m\u001b[0;34m\u001b[0m\u001b[0;34m\u001b[0m\u001b[0m\n\u001b[1;32m      4\u001b[0m \u001b[0mlen\u001b[0m \u001b[0;34m(\u001b[0m\u001b[0ms1\u001b[0m\u001b[0;34m)\u001b[0m \u001b[0;34m==\u001b[0m \u001b[0mlen\u001b[0m \u001b[0;34m(\u001b[0m\u001b[0ms2\u001b[0m\u001b[0;34m)\u001b[0m\u001b[0;34m\u001b[0m\u001b[0;34m\u001b[0m\u001b[0m\n\u001b[1;32m      5\u001b[0m \u001b[0mprint\u001b[0m\u001b[0;34m(\u001b[0m\u001b[0;34m\"Tamanho de:\"\u001b[0m\u001b[0;34m,\u001b[0m \u001b[0ms1\u001b[0m\u001b[0;34m,\u001b[0m \u001b[0mlen\u001b[0m \u001b[0;34m(\u001b[0m\u001b[0ms1\u001b[0m\u001b[0;34m)\u001b[0m\u001b[0;34m,\u001b[0m\u001b[0;34m)\u001b[0m\u001b[0;34m\u001b[0m\u001b[0;34m\u001b[0m\u001b[0m\n",
            "\u001b[0;31mTypeError\u001b[0m: 'bool' object is not callable"
          ]
        }
      ]
    },
    {
      "cell_type": "markdown",
      "source": [
        "4. Faça um programa que ler uma string e cortaos dois primeiros caracteres e os dois últimos\n",
        "Exemplo:\n",
        "● B = “0123456789”\n",
        "● Resultado = “234567”"
      ],
      "metadata": {
        "id": "2uOp6_V-QLxx"
      }
    }
  ]
}