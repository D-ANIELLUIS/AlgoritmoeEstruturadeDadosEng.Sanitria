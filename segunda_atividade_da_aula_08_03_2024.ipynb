{
  "nbformat": 4,
  "nbformat_minor": 0,
  "metadata": {
    "colab": {
      "provenance": [],
      "authorship_tag": "ABX9TyMvhQf3v2QFkQtmLdsjc8XP",
      "include_colab_link": true
    },
    "kernelspec": {
      "name": "python3",
      "display_name": "Python 3"
    },
    "language_info": {
      "name": "python"
    }
  },
  "cells": [
    {
      "cell_type": "markdown",
      "metadata": {
        "id": "view-in-github",
        "colab_type": "text"
      },
      "source": [
        "<a href=\"https://colab.research.google.com/github/D-ANIELLUIS/AlgoritmoeEstruturadeDadosEngSanitria/blob/main/segunda_atividade_da_aula_08_03_2024.ipynb\" target=\"_parent\"><img src=\"https://colab.research.google.com/assets/colab-badge.svg\" alt=\"Open In Colab\"/></a>"
      ]
    },
    {
      "cell_type": "markdown",
      "source": [
        "Meu primeiro programa"
      ],
      "metadata": {
        "id": "kvP3ShFadvzH"
      }
    },
    {
      "cell_type": "code",
      "source": [
        "#Imprime \"Hello, World\" na tela\n",
        "print(\"Hello, World\")"
      ],
      "metadata": {
        "colab": {
          "base_uri": "https://localhost:8080/"
        },
        "id": "0hk2ReoPdv5X",
        "outputId": "f6ead5ea-769a-4ace-9d0a-3baa0cf159b3"
      },
      "execution_count": 4,
      "outputs": [
        {
          "output_type": "stream",
          "name": "stdout",
          "text": [
            "Hello, World\n"
          ]
        }
      ]
    },
    {
      "cell_type": "code",
      "source": [
        "#Variáveis em Python\n",
        "#Atribuindo a string \"Hello, World\" a variável message\n",
        "message = \"Hello, World!\"\n",
        "#Imprimir o conteúdo da variável message\n",
        "print (message)"
      ],
      "metadata": {
        "colab": {
          "base_uri": "https://localhost:8080/"
        },
        "id": "L_6oikMHogIF",
        "outputId": "58da4ed2-35d6-4fec-a407-dc1135b3429c"
      },
      "execution_count": 5,
      "outputs": [
        {
          "output_type": "stream",
          "name": "stdout",
          "text": [
            "Hello, World!\n"
          ]
        }
      ]
    },
    {
      "cell_type": "code",
      "source": [
        "# Entrada de dados do usuário\n",
        "# Solicitar ao usuário que insira seu nome\n",
        "nome = input(\"Qual o seu nome? \")\n",
        "print(\"Olá, \" + nome + \"!\")"
      ],
      "metadata": {
        "colab": {
          "base_uri": "https://localhost:8080/"
        },
        "id": "kIJvGfJRtU6s",
        "outputId": "b1de468c-87ad-4a98-b5e9-323b5b1ad3e0"
      },
      "execution_count": 10,
      "outputs": [
        {
          "output_type": "stream",
          "name": "stdout",
          "text": [
            "Qual o seu nome? Daniel\n",
            "Olá, Daniel!\n"
          ]
        }
      ]
    }
  ]
}