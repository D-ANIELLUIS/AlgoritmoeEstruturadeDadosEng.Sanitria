{
  "nbformat": 4,
  "nbformat_minor": 0,
  "metadata": {
    "colab": {
      "provenance": [],
      "authorship_tag": "ABX9TyPUnVwljjPfLW5NbjVm+AF1",
      "include_colab_link": true
    },
    "kernelspec": {
      "name": "python3",
      "display_name": "Python 3"
    },
    "language_info": {
      "name": "python"
    }
  },
  "cells": [
    {
      "cell_type": "markdown",
      "metadata": {
        "id": "view-in-github",
        "colab_type": "text"
      },
      "source": [
        "<a href=\"https://colab.research.google.com/github/D-ANIELLUIS/AlgoritmoeEstruturadeDadosEngSanitria/blob/main/Criptografia31_07_2024.ipynb\" target=\"_parent\"><img src=\"https://colab.research.google.com/assets/colab-badge.svg\" alt=\"Open In Colab\"/></a>"
      ]
    },
    {
      "cell_type": "code",
      "execution_count": null,
      "metadata": {
        "colab": {
          "base_uri": "https://localhost:8080/"
        },
        "id": "WANnaR5IYPB6",
        "outputId": "d3d324e9-cb9c-4ee8-928c-94f560bb076d"
      },
      "outputs": [
        {
          "output_type": "stream",
          "name": "stdout",
          "text": [
            "Digite a mensagem a ser criptografada: Filosofia\n",
            "Mensagem criptografada: Эѐѓіњіэѐш\n",
            "Mensagem descriptografada: Filosofia\n"
          ]
        }
      ],
      "source": [
        "#Criptogradia\n",
        "def criptografia(msg):\n",
        "  s = \"\"\n",
        "  for i in msg:\n",
        "    s += chr(ord(i) + 999) #Obtenha o caractere que representa o unicode 97: x = chr(97) Retorna o inteiro que representa o caractere \"h\":x = ord(\"h\")\n",
        "  return s\n",
        "\n",
        "def descripritografar(msg):\n",
        "  s = \"\"\n",
        "  for i in msg:\n",
        "    s += chr(ord(i) - 999) #999 é a chave de criptografia. Deve haver outras formas de colocar chaves sem ser desse modo que é com número inteiro.\n",
        "  return s\n",
        "\n",
        "mensagem = input(\"Digite a mensagem a ser criptografada: \")\n",
        "mensagem_criptografada = criptografia(mensagem)\n",
        "print(\"Mensagem criptografada:\", mensagem_criptografada)\n",
        "\n",
        "mensagem_descriptografada = descripritografar(mensagem_criptografada)\n",
        "print(\"Mensagem descriptografada:\", mensagem_descriptografada)"
      ]
    }
  ]
}