{
  "nbformat": 4,
  "nbformat_minor": 0,
  "metadata": {
    "colab": {
      "provenance": [],
      "authorship_tag": "ABX9TyNA0vNqP2ptP6/ZvhEF9Tki",
      "include_colab_link": true
    },
    "kernelspec": {
      "name": "python3",
      "display_name": "Python 3"
    },
    "language_info": {
      "name": "python"
    }
  },
  "cells": [
    {
      "cell_type": "markdown",
      "metadata": {
        "id": "view-in-github",
        "colab_type": "text"
      },
      "source": [
        "<a href=\"https://colab.research.google.com/github/D-ANIELLUIS/AlgoritmoeEstruturadeDadosEngSanitria/blob/main/Recuperacao_do_arquivo_que_nao_foi_salvo_corretamente.ipynb\" target=\"_parent\"><img src=\"https://colab.research.google.com/assets/colab-badge.svg\" alt=\"Open In Colab\"/></a>"
      ]
    },
    {
      "cell_type": "code",
      "execution_count": 3,
      "metadata": {
        "colab": {
          "base_uri": "https://localhost:8080/"
        },
        "id": "N9YaQTHKai7V",
        "outputId": "35193208-d61d-442c-a8c6-ea719fa3f0a9"
      },
      "outputs": [
        {
          "output_type": "stream",
          "name": "stdout",
          "text": [
            "Calculadora de média ponderada do IFRN\n",
            "Digite o peso 1 (para a nota1): 2\n",
            "Digite o peso 2 (para a nota2): 3\n",
            "Digite a nota 1: 12\n",
            "Digite a nota 2: 10\n",
            "Error ⚠️\n",
            "Tente valores entre 1 e 10\n"
          ]
        }
      ],
      "source": [
        "print(\"Calculadora de média ponderada do IFRN\")\n",
        "\n",
        "# Float, tipagem explícita, para garantir número fracionário\n",
        "peso_nota1 = float(input(\"Digite o peso 1 (para a nota1): \"))\n",
        "peso_nota2 = float(input(\"Digite o peso 2 (para a nota2): \"))\n",
        "n1 = float(input(\"Digite a nota 1: \"))\n",
        "n2 = float(input(\"Digite a nota 2: \"))\n",
        "\n",
        "media_dos_pesos = peso_nota1 + peso_nota2\n",
        "\n",
        "# Cálculo de média ponderada\n",
        "media = (n1 * peso_nota1 + n2 * peso_nota2) / media_dos_pesos\n",
        "\n",
        "# Impressão da média\n",
        "if n1 > 10 or n2 > 10:\n",
        "    print(\"Error ⚠️\")\n",
        "else:\n",
        "    print(f\"A média ponderada das notas é: {media:.2f}\")\n",
        "\n",
        "# Apresentar se o aluno foi aprovado ou não\n",
        "if media >= 6 and media < 10:\n",
        "    print(\"Aprovado\")\n",
        "elif n1 >= 2 and n2 >= 2 and n1 <= 10 and n2 <= 10:\n",
        "    print(\"Prova final\")\n",
        "elif n1 > 10 or n2 > 10:\n",
        "    print(\"Tente valores entre 1 e 10\")\n",
        "elif media < 2:\n",
        "    print(\"Reprovado\")\n",
        "else:\n",
        "    print(\"Reprovado\")"
      ]
    }
  ]
}