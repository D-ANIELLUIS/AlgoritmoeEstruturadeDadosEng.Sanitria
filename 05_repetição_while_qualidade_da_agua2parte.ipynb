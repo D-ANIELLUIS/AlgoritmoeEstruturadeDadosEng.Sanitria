{
  "nbformat": 4,
  "nbformat_minor": 0,
  "metadata": {
    "colab": {
      "provenance": [],
      "authorship_tag": "ABX9TyP+UUIRGfqV1yCMlA+xQU1R",
      "include_colab_link": true
    },
    "kernelspec": {
      "name": "python3",
      "display_name": "Python 3"
    },
    "language_info": {
      "name": "python"
    }
  },
  "cells": [
    {
      "cell_type": "markdown",
      "metadata": {
        "id": "view-in-github",
        "colab_type": "text"
      },
      "source": [
        "<a href=\"https://colab.research.google.com/github/D-ANIELLUIS/AlgoritmoeEstruturadeDadosEngSanitria/blob/main/05_repeti%C3%A7%C3%A3o_while_qualidade_da_agua2parte.ipynb\" target=\"_parent\"><img src=\"https://colab.research.google.com/assets/colab-badge.svg\" alt=\"Open In Colab\"/></a>"
      ]
    },
    {
      "cell_type": "code",
      "execution_count": 11,
      "metadata": {
        "colab": {
          "base_uri": "https://localhost:8080/"
        },
        "id": "TBrJBHDX1ax7",
        "outputId": "f2b46354-779d-446d-8e7d-9a16542cca0d"
      },
      "outputs": [
        {
          "output_type": "stream",
          "name": "stdout",
          "text": [
            "Insira o nível de cloro da águua para verificar se está no padrão aceito\n",
            "Digite o nivel de cloro em mg/L:.1\n",
            "Atenção: O nivel de cloro está a baico do padrão aceitável\n"
          ]
        }
      ],
      "source": [
        "#Programa de controle de qualidade da água\n",
        "print(\"Insira o nível de cloro da águua para verificar se está no padrão aceito\")\n",
        "paradinha = True\n",
        "#paradinha = 1 #outro exemplo\n",
        "\n",
        "while paradinha: #loop infinito // infinete loop\n",
        "  nivel_cloro = float(input(\"Digite o nivel de cloro em mg/L:\"))\n",
        "  #verificando se o 0.2 > nivel_cloro < 2\n",
        "  if nivel_cloro < 0.2:\n",
        "    print(\"Atenção: O nivel de cloro está a baixo do padrão aceitável\")\n",
        "  elif nivel_cloro > 2.0:\n",
        "    print(\"Atenção: O nivel de cloro está a acima do padrão aceitável\")\n",
        "  else:\n",
        "    print(\"O nivel do cloro está dentro dos padrões aceitáveis.\")\n",
        "  paradinha = False #A indentação faz toda diferença ao funcionamento da \"paradinha\""
      ]
    }
  ]
}