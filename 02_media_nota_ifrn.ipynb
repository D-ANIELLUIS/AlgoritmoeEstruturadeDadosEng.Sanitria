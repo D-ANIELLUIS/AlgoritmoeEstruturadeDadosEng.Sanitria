{
  "nbformat": 4,
  "nbformat_minor": 0,
  "metadata": {
    "colab": {
      "provenance": [],
      "include_colab_link": true
    },
    "kernelspec": {
      "name": "python3",
      "display_name": "Python 3"
    },
    "language_info": {
      "name": "python"
    }
  },
  "cells": [
    {
      "cell_type": "markdown",
      "metadata": {
        "id": "view-in-github",
        "colab_type": "text"
      },
      "source": [
        "<a href=\"https://colab.research.google.com/github/D-ANIELLUIS/AlgoritmoeEstruturadeDadosEngSanitria/blob/main/02_media_nota_ifrn.ipynb\" target=\"_parent\"><img src=\"https://colab.research.google.com/assets/colab-badge.svg\" alt=\"Open In Colab\"/></a>"
      ]
    },
    {
      "cell_type": "markdown",
      "source": [
        "Calculadora de média ponderada IFRN"
      ],
      "metadata": {
        "id": "2-VaLqyRxSqm"
      }
    },
    {
      "cell_type": "code",
      "execution_count": 36,
      "metadata": {
        "colab": {
          "base_uri": "https://localhost:8080/"
        },
        "id": "ixAlMdSmxNRq",
        "outputId": "68b2f1c1-4c77-43ea-f9a4-fe0e29b17dc1"
      },
      "outputs": [
        {
          "output_type": "stream",
          "name": "stdout",
          "text": [
            "Calculadora de média ponderada do IFRN\n",
            "Digite o peso 1(para a nota1): 2\n",
            "Digite o peso 2(para a nota2): 3\n",
            "Digite a nota 1: 10\n",
            "Digite a nota 2: 2\n",
            "A média ponderada das notas é: 5.20\n",
            "Prova final\n"
          ]
        }
      ],
      "source": [
        "print(\"Calculadora de média ponderada do IFRN\")\n",
        "#Float, tipagem explícita, para garantir número fracionário\n",
        "peso_nota1 = float( input(\"Digite o peso 1(para a nota1): \") )\n",
        "peso_nota2 = float( input(\"Digite o peso 2(para a nota2): \") )\n",
        "n1 = float( input(\"Digite a nota 1: \") )\n",
        "n2 = float( input(\"Digite a nota 2: \") )\n",
        "media_dos_pesos = peso_nota1 + peso_nota2\n",
        "\n",
        "#calculo de media ponderada\n",
        "media = (n1 * peso_nota1 + n2 * peso_nota2) / media_dos_pesos\n",
        "\n",
        "#impressão da média\n",
        "if n1 > 10 or n2 > 10:\n",
        "  print(\"Error ⚠️\")\n",
        "else:\n",
        "  print(f\"A média ponderada das notas é: {media:.2f}\")\n",
        "\n",
        "#apresentar se o aluno foi aprovado ou não\n",
        "if media >= 6 and media < 10:\n",
        "  print(\"Aprovado\")\n",
        "else:\n",
        "  if n1 >= 2 and n2 >= 2 and n1 <= 10 and n2 <= 10:\n",
        "    print(\"Prova final\")\n",
        "if n1 > 10 or n2 > 10 :\n",
        "  print(\"Tente valores entre 1 e 10\")\n",
        "if media < 2:\n",
        "  print(\"Reprovado\")"
      ]
    }
  ]
}