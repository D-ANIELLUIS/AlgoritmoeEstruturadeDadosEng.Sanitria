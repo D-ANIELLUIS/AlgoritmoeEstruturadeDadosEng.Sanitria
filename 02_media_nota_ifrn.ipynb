{
  "nbformat": 4,
  "nbformat_minor": 0,
  "metadata": {
    "colab": {
      "provenance": [],
      "authorship_tag": "ABX9TyNmjIBvEk2hirkZg+t4nAqk",
      "include_colab_link": true
    },
    "kernelspec": {
      "name": "python3",
      "display_name": "Python 3"
    },
    "language_info": {
      "name": "python"
    }
  },
  "cells": [
    {
      "cell_type": "markdown",
      "metadata": {
        "id": "view-in-github",
        "colab_type": "text"
      },
      "source": [
        "<a href=\"https://colab.research.google.com/github/D-ANIELLUIS/AlgoritmoeEstruturadeDadosEngSanitria/blob/main/02_media_nota_ifrn.ipynb\" target=\"_parent\"><img src=\"https://colab.research.google.com/assets/colab-badge.svg\" alt=\"Open In Colab\"/></a>"
      ]
    },
    {
      "cell_type": "markdown",
      "source": [
        "Calculadora de média ponderada IFRN"
      ],
      "metadata": {
        "id": "xqK4VXBIxTbh"
      }
    },
    {
      "cell_type": "code",
      "execution_count": 16,
      "metadata": {
        "colab": {
          "base_uri": "https://localhost:8080/"
        },
        "id": "hS0s2IPNxOwc",
        "outputId": "a8380083-08da-4df3-c8bd-dd2d676cb4e2"
      },
      "outputs": [
        {
          "output_type": "stream",
          "name": "stdout",
          "text": [
            "Calculadora de média ponderada do IFRN\n",
            "Digite a nota 1(com peso 2):  12\n",
            "Digite a nota 2(com peso 3):  12\n",
            "A média ponderada das notas é: 12.00\n"
          ]
        }
      ],
      "source": [
        "print(\"Calculadora de média ponderada do IFRN\")\n",
        "#Float, tipagem explícita, para garantir número fracionário\n",
        "n1 = float( input(\"Digite a nota 1(com peso 2):  \") )\n",
        "n2 = float( input(\"Digite a nota 2(com peso 3):  \") )\n",
        "\n",
        "#Calculo da media ponderada\n",
        "media = ((( n1 * 2 ) + ( n2 * 3 ) ) / 5)\n",
        "\n",
        "#impressão da média\n",
        "print(f\"A média ponderada das notas é: {media:.2f}\") # o segundo f é para garantir que tenha 2 casas decimais\n"
      ]
    }
  ]
}