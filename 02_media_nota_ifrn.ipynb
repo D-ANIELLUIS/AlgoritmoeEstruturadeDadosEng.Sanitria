{
  "nbformat": 4,
  "nbformat_minor": 0,
  "metadata": {
    "colab": {
      "provenance": [],
      "authorship_tag": "ABX9TyMwtYCMu39HXkTedF+abFqf",
      "include_colab_link": true
    },
    "kernelspec": {
      "name": "python3",
      "display_name": "Python 3"
    },
    "language_info": {
      "name": "python"
    }
  },
  "cells": [
    {
      "cell_type": "markdown",
      "metadata": {
        "id": "view-in-github",
        "colab_type": "text"
      },
      "source": [
        "<a href=\"https://colab.research.google.com/github/D-ANIELLUIS/AlgoritmoeEstruturadeDadosEngSanitria/blob/main/02_media_nota_ifrn.ipynb\" target=\"_parent\"><img src=\"https://colab.research.google.com/assets/colab-badge.svg\" alt=\"Open In Colab\"/></a>"
      ]
    },
    {
      "cell_type": "markdown",
      "source": [
        "Calculadora de média ponderada IFRN"
      ],
      "metadata": {
        "id": "xqK4VXBIxTbh"
      }
    },
    {
      "cell_type": "code",
      "execution_count": 9,
      "metadata": {
        "colab": {
          "base_uri": "https://localhost:8080/"
        },
        "id": "hS0s2IPNxOwc",
        "outputId": "f46baf72-4c25-494c-9e2a-e08e9f327b18"
      },
      "outputs": [
        {
          "output_type": "stream",
          "name": "stdout",
          "text": [
            "Calculadora de média ponderada do IFRN\n",
            "Digite a nota 1(com peso 2):  4.1\n",
            "Digite a nota 2(com peso 3):  8.2\n",
            "A média ponderada das notas é: 6.56\n",
            "Aprovado ❤️, *Proxima etapa, Linguagem de Programação.*\n"
          ]
        }
      ],
      "source": [
        "print(\"Calculadora de média ponderada do IFRN\")\n",
        "#Float, tipagem explícita, para garantir número fracionário\n",
        "n1 = float( input(\"Digite a nota 1(com peso 2):  \") )\n",
        "n2 = float( input(\"Digite a nota 2(com peso 3):  \") )\n",
        "\n",
        "#Calculo da media ponderada\n",
        "media = ((( n1 * 2 ) + ( n2 * 3 ) ) / 5)\n",
        "\n",
        "#impressão da média\n",
        "print(f\"A média ponderada das notas é: {media:.2f}\") # o segundo f é para garantir que tenha 2 casas decimais\n",
        "\n",
        "#apresentar se o aluno foi aprovado ou não\n",
        "if media >= 6: #if é condição se for verdadeira\n",
        "  print(\"Aprovado ❤️, Proxima etapa, Linguagem de Programação.\")\n",
        "else: #else é condição se for falsa\n",
        "  if n1 >= 4 and n2 >= 4:\n",
        "    print(\"Prova Final ☠️\")\n",
        "  else:\n",
        "    print(\"Reprovado, até próximo semetre 😁\")"
      ]
    }
  ]
}