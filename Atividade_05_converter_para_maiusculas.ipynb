{
  "nbformat": 4,
  "nbformat_minor": 0,
  "metadata": {
    "colab": {
      "provenance": [],
      "authorship_tag": "ABX9TyMh9Ptx/BUtEvLVtiaSJpc6",
      "include_colab_link": true
    },
    "kernelspec": {
      "name": "python3",
      "display_name": "Python 3"
    },
    "language_info": {
      "name": "python"
    }
  },
  "cells": [
    {
      "cell_type": "markdown",
      "metadata": {
        "id": "view-in-github",
        "colab_type": "text"
      },
      "source": [
        "<a href=\"https://colab.research.google.com/github/D-ANIELLUIS/AlgoritmoeEstruturadeDadosEngSanitria/blob/main/Atividade_05_converter_para_maiusculas.ipynb\" target=\"_parent\"><img src=\"https://colab.research.google.com/assets/colab-badge.svg\" alt=\"Open In Colab\"/></a>"
      ]
    },
    {
      "cell_type": "code",
      "execution_count": null,
      "metadata": {
        "id": "fZn4lRkJzHJk"
      },
      "outputs": [],
      "source": [
        "def converter_para_maiusculas(texto):\n",
        "  try:\n",
        "        with open(entrada, 'r', encoding='utf-8') as f:\n",
        "            conteudo = f.read()\n",
        "\n",
        "        conteudo_maiusculas = conteudo.upper()\n",
        "\n",
        "        with open(saida, 'w', encoding='utf-8') as f:\n",
        "            f.write(conteudo_maiusculas)\n",
        "\n",
        "  except FileNotFoundError:\n",
        "      print(f\"O arquivo {entrada} não foi encontrado.\")\n",
        "  except Exception as e:\n",
        "      print(f\"Ocorreu um erro: {e}\")"
      ]
    }
  ]
}