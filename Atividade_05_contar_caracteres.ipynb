{
  "nbformat": 4,
  "nbformat_minor": 0,
  "metadata": {
    "colab": {
      "provenance": [],
      "authorship_tag": "ABX9TyNelZJfmfvTfkxD4dSBZ1n8",
      "include_colab_link": true
    },
    "kernelspec": {
      "name": "python3",
      "display_name": "Python 3"
    },
    "language_info": {
      "name": "python"
    }
  },
  "cells": [
    {
      "cell_type": "markdown",
      "metadata": {
        "id": "view-in-github",
        "colab_type": "text"
      },
      "source": [
        "<a href=\"https://colab.research.google.com/github/D-ANIELLUIS/AlgoritmoeEstruturadeDadosEngSanitria/blob/main/Atividade_05_contar_caracteres.ipynb\" target=\"_parent\"><img src=\"https://colab.research.google.com/assets/colab-badge.svg\" alt=\"Open In Colab\"/></a>"
      ]
    },
    {
      "cell_type": "code",
      "execution_count": null,
      "metadata": {
        "id": "6qcf3vIaziaB"
      },
      "outputs": [],
      "source": [
        "def contar_caracteres(texto):\n",
        "  contagem = {}\n",
        "  for caractere in texto:\n",
        "      if caractere in contagem:\n",
        "          contagem[caractere] += 1\n",
        "      else:\n",
        "          contagem[caractere] = 1\n",
        "  return contagem"
      ]
    }
  ]
}